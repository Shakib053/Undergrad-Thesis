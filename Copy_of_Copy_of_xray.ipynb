{
  "nbformat": 4,
  "nbformat_minor": 0,
  "metadata": {
    "accelerator": "GPU",
    "colab": {
      "name": "Copy of Copy of xray.ipynb",
      "provenance": [],
      "collapsed_sections": []
    },
    "kernelspec": {
      "display_name": "Python 3",
      "name": "python3"
    }
  },
  "cells": [
    {
      "cell_type": "code",
      "metadata": {
        "colab": {
          "base_uri": "https://localhost:8080/"
        },
        "id": "Iu_BYdtwtT09",
        "outputId": "fa96f068-3f88-4666-8d45-b3f2acc014d9"
      },
      "source": [
        "from google.colab import drive\n",
        "drive.mount('/content/drive')\n"
      ],
      "execution_count": null,
      "outputs": [
        {
          "output_type": "stream",
          "text": [
            "Mounted at /content/drive\n"
          ],
          "name": "stdout"
        }
      ]
    },
    {
      "cell_type": "code",
      "metadata": {
        "colab": {
          "base_uri": "https://localhost:8080/"
        },
        "id": "1bF3Y0TftgVQ",
        "outputId": "e0e7c3af-e816-4fb8-cf2d-d8b447d3cd29"
      },
      "source": [
        "# General libraries\n",
        "import os\n",
        "import numpy as np\n",
        "import pandas as pd \n",
        "import random\n",
        "import cv2\n",
        "import matplotlib.pyplot as plt\n",
        "%matplotlib inline\n",
        "\n",
        "# Deep learning libraries\n",
        "import keras.backend as K\n",
        "from keras.models import Model, Sequential\n",
        "from keras.layers import Input, Dense, Flatten, Dropout, BatchNormalization\n",
        "from keras.layers import Conv2D, SeparableConv2D, MaxPool2D, LeakyReLU, Activation\n",
        "from keras.optimizers import Adam\n",
        "from keras.preprocessing.image import ImageDataGenerator\n",
        "from keras.callbacks import ModelCheckpoint, ReduceLROnPlateau, EarlyStopping\n",
        "import tensorflow as tf\n",
        "\n",
        "\n",
        "\n",
        "import os\n",
        "print(os.listdir((\"/content/drive/MyDrive/Dataset/chest_xray\")))"
      ],
      "execution_count": null,
      "outputs": [
        {
          "output_type": "stream",
          "text": [
            "['.DS_Store', 'test', 'train', 'val']\n"
          ],
          "name": "stdout"
        }
      ]
    },
    {
      "cell_type": "code",
      "metadata": {
        "id": "IsYN_tPItpUk"
      },
      "source": [
        "# input_path = '../input/chest_xray/chest_xray/'\n",
        "input_path = '/content/drive/MyDrive/Dataset/chest_xray'\n",
        "\n",
        "def process_data(img_dims, batch_size):\n",
        "    # Data generation objects\n",
        "    train_datagen = ImageDataGenerator(rescale=1./255, zoom_range=0.3, vertical_flip=True)\n",
        "    test_val_datagen = ImageDataGenerator(rescale=1./255)\n",
        "    \n",
        "    # This is fed to the network in the specified batch sizes and image dimensions\n",
        "    train_gen = train_datagen.flow_from_directory(\n",
        "    directory='/content/drive/MyDrive/Dataset/chest_xray/train', \n",
        "    target_size=(img_dims, img_dims), \n",
        "    batch_size=batch_size, \n",
        "    class_mode='binary', \n",
        "    shuffle=True)\n",
        "\n",
        "    test_gen = test_val_datagen.flow_from_directory(\n",
        "    directory='/content/drive/MyDrive/Dataset/chest_xray/test', \n",
        "    target_size=(img_dims, img_dims), \n",
        "    batch_size=batch_size, \n",
        "    class_mode='binary', \n",
        "    shuffle=True)\n",
        "    \n",
        "    # I will be making predictions off of the test set in one batch size\n",
        "    # This is useful to be able to get the confusion matrix\n",
        "    test_data = []\n",
        "    test_labels = []\n",
        "\n",
        "    for cond in ['/NORMAL/', '/PNEUMONIA/']:\n",
        "        for img in (os.listdir(input_path + '/test' + cond)):\n",
        "            img = plt.imread('/content/drive/MyDrive/Dataset/chest_xray/test'+cond+img)\n",
        "            img = cv2.resize(img, (img_dims, img_dims))\n",
        "            img = np.dstack([img, img, img])\n",
        "            img = img.astype('float32') / 255\n",
        "            if cond=='/NORMAL/':\n",
        "                label = 0\n",
        "            elif cond=='/PNEUMONIA/':\n",
        "                label = 1\n",
        "            test_data.append(img)\n",
        "            test_labels.append(label)\n",
        "        \n",
        "    test_data = np.array(test_data)\n",
        "    test_labels = np.array(test_labels)\n",
        "    \n",
        "    return train_gen, test_gen, test_data, test_labels"
      ],
      "execution_count": null,
      "outputs": []
    },
    {
      "cell_type": "code",
      "metadata": {
        "colab": {
          "base_uri": "https://localhost:8080/"
        },
        "id": "up3OQ4IPttiR",
        "outputId": "8e119598-eb96-4939-cc3d-f394466866be"
      },
      "source": [
        "\n",
        "\n",
        "# Hyperparameters\n",
        "img_dims = 150\n",
        "epochs = 15\n",
        "batch_size = 32\n",
        "\n",
        "# Getting the data\n",
        "train_gen, test_gen, test_data, test_labels = process_data(img_dims, batch_size)\n",
        "\n"
      ],
      "execution_count": null,
      "outputs": [
        {
          "output_type": "stream",
          "text": [
            "Found 5216 images belonging to 2 classes.\n",
            "Found 624 images belonging to 2 classes.\n"
          ],
          "name": "stdout"
        }
      ]
    },
    {
      "cell_type": "code",
      "metadata": {
        "id": "nBAgxqPX2-h0",
        "colab": {
          "base_uri": "https://localhost:8080/"
        },
        "outputId": "aaef3572-3d39-48ed-dc7a-2da4686f9e22"
      },
      "source": [
        "inputs = Input(shape=(img_dims, img_dims, 3))\n",
        "\n",
        "# First conv block\n",
        "x = Conv2D(filters=16, kernel_size=(3, 3), activation='relu', padding='same')(inputs)\n",
        "x = Conv2D(filters=16, kernel_size=(3, 3), activation='relu', padding='same')(x)\n",
        "x = MaxPool2D(pool_size=(2, 2))(x)\n",
        "\n",
        "# Second conv block\n",
        "x = SeparableConv2D(filters=32, kernel_size=(3, 3), activation='relu', padding='same')(x)\n",
        "x = SeparableConv2D(filters=32, kernel_size=(3, 3), activation='relu', padding='same')(x)\n",
        "x = BatchNormalization()(x)\n",
        "x = MaxPool2D(pool_size=(2, 2))(x)\n",
        "\n",
        "# Third conv block\n",
        "x = SeparableConv2D(filters=64, kernel_size=(3, 3), activation='relu', padding='same')(x)\n",
        "x = SeparableConv2D(filters=64, kernel_size=(3, 3), activation='relu', padding='same')(x)\n",
        "x = BatchNormalization()(x)\n",
        "x = MaxPool2D(pool_size=(2, 2))(x)\n",
        "\n",
        "# Fourth conv block\n",
        "x = SeparableConv2D(filters=128, kernel_size=(3, 3), activation='relu', padding='same')(x)\n",
        "x = SeparableConv2D(filters=128, kernel_size=(3, 3), activation='relu', padding='same')(x)\n",
        "x = BatchNormalization()(x)\n",
        "x = MaxPool2D(pool_size=(2, 2))(x)\n",
        "x = Dropout(rate=0.2)(x)\n",
        "\n",
        "# Fifth conv block\n",
        "x = SeparableConv2D(filters=256, kernel_size=(3, 3), activation='relu', padding='same')(x)\n",
        "x = SeparableConv2D(filters=256, kernel_size=(3, 3), activation='relu', padding='same')(x)\n",
        "x = BatchNormalization()(x)\n",
        "x = MaxPool2D(pool_size=(2, 2))(x)\n",
        "x = Dropout(rate=0.2)(x)\n",
        "\n",
        "# FC layer\n",
        "x = Flatten()(x)\n",
        "x = Dense(units=512, activation='relu')(x)\n",
        "x = Dropout(rate=0.7)(x)\n",
        "x = Dense(units=128, activation='relu')(x)\n",
        "x = Dropout(rate=0.5)(x)\n",
        "x = Dense(units=64, activation='relu')(x)\n",
        "x = Dropout(rate=0.3)(x)\n",
        "\n",
        "# Output layer\n",
        "output = Dense(units=1, activation='sigmoid')(x)\n",
        "\n",
        "\n",
        "#try\n",
        "\n",
        "#optim=tf.keras.optimizers.RMSprop(lr=0.001, rho=0.9, epsilon=None, decay=0.0)\n",
        "#model_3_hidden.compile(optimizer = optim, loss = 'binary_crossentropy', metrics = ['accuracy'])\n",
        "\n",
        "# Creating model and compiling\n",
        "model = Model(inputs=inputs, outputs=output)\n",
        "model.compile(optimizer='adam', loss='binary_crossentropy', metrics=['accuracy'])\n",
        "#model.compile(optimizer= optim, loss='binary_crossentropy', metrics=['accuracy'])\n",
        "\n",
        "# Callbacks\n",
        "checkpoint = ModelCheckpoint(filepath='best_weights.hdf5', save_best_only=True, save_weights_only=True)\n",
        "lr_reduce = ReduceLROnPlateau(monitor='val_loss', factor=0.3, patience=2, verbose=2, mode='max')\n",
        "early_stop = EarlyStopping(monitor='val_loss', min_delta=0.1, patience=1, mode='min')\n",
        "model.summary()"
      ],
      "execution_count": null,
      "outputs": [
        {
          "output_type": "stream",
          "text": [
            "Model: \"functional_3\"\n",
            "_________________________________________________________________\n",
            "Layer (type)                 Output Shape              Param #   \n",
            "=================================================================\n",
            "input_2 (InputLayer)         [(None, 150, 150, 3)]     0         \n",
            "_________________________________________________________________\n",
            "conv2d_2 (Conv2D)            (None, 150, 150, 16)      448       \n",
            "_________________________________________________________________\n",
            "conv2d_3 (Conv2D)            (None, 150, 150, 16)      2320      \n",
            "_________________________________________________________________\n",
            "max_pooling2d_5 (MaxPooling2 (None, 75, 75, 16)        0         \n",
            "_________________________________________________________________\n",
            "separable_conv2d_8 (Separabl (None, 75, 75, 32)        688       \n",
            "_________________________________________________________________\n",
            "separable_conv2d_9 (Separabl (None, 75, 75, 32)        1344      \n",
            "_________________________________________________________________\n",
            "batch_normalization_4 (Batch (None, 75, 75, 32)        128       \n",
            "_________________________________________________________________\n",
            "max_pooling2d_6 (MaxPooling2 (None, 37, 37, 32)        0         \n",
            "_________________________________________________________________\n",
            "separable_conv2d_10 (Separab (None, 37, 37, 64)        2400      \n",
            "_________________________________________________________________\n",
            "separable_conv2d_11 (Separab (None, 37, 37, 64)        4736      \n",
            "_________________________________________________________________\n",
            "batch_normalization_5 (Batch (None, 37, 37, 64)        256       \n",
            "_________________________________________________________________\n",
            "max_pooling2d_7 (MaxPooling2 (None, 18, 18, 64)        0         \n",
            "_________________________________________________________________\n",
            "separable_conv2d_12 (Separab (None, 18, 18, 128)       8896      \n",
            "_________________________________________________________________\n",
            "separable_conv2d_13 (Separab (None, 18, 18, 128)       17664     \n",
            "_________________________________________________________________\n",
            "batch_normalization_6 (Batch (None, 18, 18, 128)       512       \n",
            "_________________________________________________________________\n",
            "max_pooling2d_8 (MaxPooling2 (None, 9, 9, 128)         0         \n",
            "_________________________________________________________________\n",
            "dropout_5 (Dropout)          (None, 9, 9, 128)         0         \n",
            "_________________________________________________________________\n",
            "separable_conv2d_14 (Separab (None, 9, 9, 256)         34176     \n",
            "_________________________________________________________________\n",
            "separable_conv2d_15 (Separab (None, 9, 9, 256)         68096     \n",
            "_________________________________________________________________\n",
            "batch_normalization_7 (Batch (None, 9, 9, 256)         1024      \n",
            "_________________________________________________________________\n",
            "max_pooling2d_9 (MaxPooling2 (None, 4, 4, 256)         0         \n",
            "_________________________________________________________________\n",
            "dropout_6 (Dropout)          (None, 4, 4, 256)         0         \n",
            "_________________________________________________________________\n",
            "flatten_1 (Flatten)          (None, 4096)              0         \n",
            "_________________________________________________________________\n",
            "dense_4 (Dense)              (None, 512)               2097664   \n",
            "_________________________________________________________________\n",
            "dropout_7 (Dropout)          (None, 512)               0         \n",
            "_________________________________________________________________\n",
            "dense_5 (Dense)              (None, 128)               65664     \n",
            "_________________________________________________________________\n",
            "dropout_8 (Dropout)          (None, 128)               0         \n",
            "_________________________________________________________________\n",
            "dense_6 (Dense)              (None, 64)                8256      \n",
            "_________________________________________________________________\n",
            "dropout_9 (Dropout)          (None, 64)                0         \n",
            "_________________________________________________________________\n",
            "dense_7 (Dense)              (None, 1)                 65        \n",
            "=================================================================\n",
            "Total params: 2,314,337\n",
            "Trainable params: 2,313,377\n",
            "Non-trainable params: 960\n",
            "_________________________________________________________________\n"
          ],
          "name": "stdout"
        }
      ]
    },
    {
      "cell_type": "code",
      "metadata": {
        "colab": {
          "background_save": true,
          "base_uri": "https://localhost:8080/"
        },
        "id": "_qCm1-Pf3D2E",
        "outputId": "7ea536e2-ed0f-4366-c53a-ad2d67a1fdc2"
      },
      "source": [
        "hist = model.fit_generator(\n",
        "           train_gen, steps_per_epoch=train_gen.samples // batch_size, \n",
        "           epochs=epochs, validation_data=test_gen, \n",
        "           validation_steps=test_gen.samples // batch_size, callbacks=[checkpoint, lr_reduce])"
      ],
      "execution_count": null,
      "outputs": [
        {
          "output_type": "stream",
          "text": [
            "WARNING:tensorflow:From <ipython-input-6-5446744f9403>:4: Model.fit_generator (from tensorflow.python.keras.engine.training) is deprecated and will be removed in a future version.\n",
            "Instructions for updating:\n",
            "Please use Model.fit, which supports generators.\n",
            "Epoch 1/15\n",
            "163/163 [==============================] - 2583s 16s/step - loss: 0.3651 - accuracy: 0.8198 - val_loss: 0.7257 - val_accuracy: 0.6283\n",
            "Epoch 2/15\n",
            "163/163 [==============================] - 81s 498ms/step - loss: 0.2910 - accuracy: 0.8794 - val_loss: 0.8018 - val_accuracy: 0.6201\n",
            "Epoch 3/15\n",
            "163/163 [==============================] - 81s 495ms/step - loss: 0.2610 - accuracy: 0.8900 - val_loss: 2.7490 - val_accuracy: 0.6250\n",
            "Epoch 4/15\n",
            "163/163 [==============================] - 81s 495ms/step - loss: 0.2556 - accuracy: 0.8898 - val_loss: 1.2817 - val_accuracy: 0.6234\n",
            "Epoch 5/15\n",
            "163/163 [==============================] - ETA: 0s - loss: 0.2243 - accuracy: 0.9132\n",
            "Epoch 00005: ReduceLROnPlateau reducing learning rate to 0.0003000000142492354.\n",
            "163/163 [==============================] - 81s 494ms/step - loss: 0.2243 - accuracy: 0.9132 - val_loss: 0.4457 - val_accuracy: 0.7829\n",
            "Epoch 6/15\n",
            "163/163 [==============================] - 81s 494ms/step - loss: 0.1848 - accuracy: 0.9314 - val_loss: 0.3776 - val_accuracy: 0.8750\n",
            "Epoch 7/15\n",
            "163/163 [==============================] - ETA: 0s - loss: 0.1597 - accuracy: 0.9423\n",
            "Epoch 00007: ReduceLROnPlateau reducing learning rate to 9.000000427477062e-05.\n",
            "163/163 [==============================] - 80s 491ms/step - loss: 0.1597 - accuracy: 0.9423 - val_loss: 0.2533 - val_accuracy: 0.8947\n",
            "Epoch 8/15\n",
            "163/163 [==============================] - 80s 490ms/step - loss: 0.1431 - accuracy: 0.9471 - val_loss: 0.3370 - val_accuracy: 0.8849\n",
            "Epoch 9/15\n",
            "163/163 [==============================] - ETA: 0s - loss: 0.1499 - accuracy: 0.9488\n",
            "Epoch 00009: ReduceLROnPlateau reducing learning rate to 2.700000040931627e-05.\n",
            "163/163 [==============================] - 81s 495ms/step - loss: 0.1499 - accuracy: 0.9488 - val_loss: 0.2557 - val_accuracy: 0.9062\n",
            "Epoch 10/15\n",
            "163/163 [==============================] - 80s 489ms/step - loss: 0.1348 - accuracy: 0.9511 - val_loss: 0.2616 - val_accuracy: 0.9095\n",
            "Epoch 11/15\n",
            "163/163 [==============================] - ETA: 0s - loss: 0.1253 - accuracy: 0.9571\n",
            "Epoch 00011: ReduceLROnPlateau reducing learning rate to 8.100000013655517e-06.\n",
            "163/163 [==============================] - 79s 486ms/step - loss: 0.1253 - accuracy: 0.9571 - val_loss: 0.2486 - val_accuracy: 0.9211\n",
            "Epoch 12/15\n",
            "163/163 [==============================] - 79s 484ms/step - loss: 0.1337 - accuracy: 0.9519 - val_loss: 0.2555 - val_accuracy: 0.9112\n",
            "Epoch 13/15\n",
            "163/163 [==============================] - ETA: 0s - loss: 0.1296 - accuracy: 0.9542\n",
            "Epoch 00013: ReduceLROnPlateau reducing learning rate to 2.429999949526973e-06.\n",
            "163/163 [==============================] - 80s 489ms/step - loss: 0.1296 - accuracy: 0.9542 - val_loss: 0.2531 - val_accuracy: 0.9128\n",
            "Epoch 14/15\n",
            "163/163 [==============================] - 79s 485ms/step - loss: 0.1311 - accuracy: 0.9576 - val_loss: 0.2575 - val_accuracy: 0.9062\n",
            "Epoch 15/15\n",
            "163/163 [==============================] - ETA: 0s - loss: 0.1348 - accuracy: 0.9513\n",
            "Epoch 00015: ReduceLROnPlateau reducing learning rate to 7.289999985005124e-07.\n",
            "163/163 [==============================] - 79s 485ms/step - loss: 0.1348 - accuracy: 0.9513 - val_loss: 0.2485 - val_accuracy: 0.9079\n"
          ],
          "name": "stdout"
        }
      ]
    },
    {
      "cell_type": "code",
      "metadata": {
        "colab": {
          "base_uri": "https://localhost:8080/",
          "height": 241
        },
        "id": "WLmngJZG01ij",
        "outputId": "785ef6d4-bf8e-4a1c-d968-a9ffa2167c32"
      },
      "source": [
        "fig, ax = plt.subplots(1, 2, figsize=(10, 3))\n",
        "ax = ax.ravel()\n",
        "\n",
        "for i, met in enumerate(['accuracy', 'loss']):\n",
        "    ax[i].plot(hist.history[met])\n",
        "    ax[i].plot(hist.history['val_' + met])\n",
        "    ax[i].set_title('Model {}'.format(met))\n",
        "    ax[i].set_xlabel('epochs')\n",
        "    ax[i].set_ylabel(met)\n",
        "    ax[i].legend(['train', 'val'])"
      ],
      "execution_count": null,
      "outputs": [
        {
          "output_type": "display_data",
          "data": {
            "image/png": "[encoded data removed]",
            "text/plain": [
              "<Figure size 720x216 with 2 Axes>"
            ]
          },
          "metadata": {
            "tags": []
          }
        }
      ]
    },
    {
      "cell_type": "code",
      "metadata": {
        "colab": {
          "base_uri": "https://localhost:8080/",
          "height": 545
        },
        "id": "GU78--2cBMHl",
        "outputId": "07851041-e580-41fd-9de5-9f57697765f8"
      },
      "source": [
        "acc3 = hist.history['accuracy']\n",
        "val_acc3 = hist.history['val_accuracy']\n",
        "\n",
        "\n",
        "loss3 = hist.history['loss']\n",
        "val_loss3 = hist.history['val_loss']\n",
        "epochs = range(len(acc3))\n",
        "\n",
        "plt.plot(epochs, acc3, 'r', label='Training accuracy')\n",
        "plt.plot(epochs, val_acc3, 'b', label='Test accuracy')\n",
        "plt.title('Training and Testing accuracy')\n",
        "plt.legend()\n",
        "plt.show()\n",
        "\n",
        "\n",
        "\n",
        "\n",
        "plt.plot(epochs, loss3, 'r', label='Training Loss')\n",
        "plt.plot(epochs, val_loss3, 'b', label='Test Loss')\n",
        "plt.title('Training and Testing loss')\n",
        "plt.legend()\n",
        "\n",
        "plt.show()"
      ],
      "execution_count": null,
      "outputs": [
        {
          "output_type": "display_data",
          "data": {
            "image/png": "[encoded data removed]",
            "text/plain": [
              "<Figure size 432x288 with 1 Axes>"
            ]
          },
          "metadata": {
            "tags": []
          }
        },
        {
          "output_type": "display_data",
          "data": {
            "image/png": "[encoded data removed]",
            "text/plain": [
              "<Figure size 432x288 with 1 Axes>"
            ]
          },
          "metadata": {
            "tags": []
          }
        }
      ]
    },
    {
      "cell_type": "code",
      "metadata": {
        "colab": {
          "base_uri": "https://localhost:8080/"
        },
        "id": "FVZ2mxTQ3Iq7",
        "outputId": "95679231-703b-41ac-8ff6-61f68d1fa870"
      },
      "source": [
        "from sklearn.metrics import accuracy_score, confusion_matrix\n",
        "\n",
        "preds = model.predict(test_data)\n",
        "\n",
        "acc = accuracy_score(test_labels, np.round(preds))*100\n",
        "cm = confusion_matrix(test_labels, np.round(preds))\n",
        "tn, fp, fn, tp = cm.ravel()\n",
        "\n",
        "print('CONFUSION MATRIX ------------------')\n",
        "print(cm)\n",
        "\n",
        "print('\\nTEST METRICS ----------------------')\n",
        "precision = tp/(tp+fp)*100\n",
        "recall = tp/(tp+fn)*100\n",
        "print('Accuracy: {}%'.format(acc))\n",
        "print('Precision: {}%'.format(precision))\n",
        "print('Recall: {}%'.format(recall))\n",
        "print('F1-score: {}'.format(2*precision*recall/(precision+recall)))\n",
        "\n",
        "print('\\nTRAIN METRIC ----------------------')\n",
        "print('Train acc: {}'.format(np.round((hist.history['accuracy'][-1])*100, 2)))"
      ],
      "execution_count": null,
      "outputs": [
        {
          "output_type": "stream",
          "text": [
            "CONFUSION MATRIX ------------------\n",
            "[[188  46]\n",
            " [ 12 378]]\n",
            "\n",
            "TEST METRICS ----------------------\n",
            "Accuracy: 90.7051282051282%\n",
            "Precision: 89.15094339622641%\n",
            "Recall: 96.92307692307692%\n",
            "F1-score: 92.87469287469288\n",
            "\n",
            "TRAIN METRIC ----------------------\n",
            "Train acc: 95.54\n"
          ],
          "name": "stdout"
        }
      ]
    },
    {
      "cell_type": "code",
      "metadata": {
        "id": "OJoDvDtm7Tu8"
      },
      "source": [
        "import numpy as np # linear algebra\n",
        "#import pandas as pd \n",
        "import os\n",
        "import cv2\n",
        "from time import sleep\n",
        "from keras.utils import to_categorical\n",
        "from keras.models import Sequential\n",
        "from keras.layers import Dense, Conv2D, MaxPool2D, Dropout, Flatten, BatchNormalization, MaxPooling2D, Activation\n",
        "from keras.optimizers import RMSprop, Adam\n",
        "from tensorflow.keras.callbacks import EarlyStopping\n",
        "from keras import backend as k\n",
        "import re\n",
        "from glob import glob\n",
        "from matplotlib import pyplot as plt\n",
        "import keras\n",
        "from keras.models import Sequential\n",
        "from keras.layers import Conv2D,MaxPooling2D,Flatten,Dropout,Dense,BatchNormalization,SpatialDropout2D\n",
        "#from tqdm import tqdm_notebook as tqdm"
      ],
      "execution_count": null,
      "outputs": []
    },
    {
      "cell_type": "code",
      "metadata": {
        "colab": {
          "base_uri": "https://localhost:8080/",
          "height": 231
        },
        "id": "_o-W_TtuXoP8",
        "outputId": "df99d223-408b-4501-e549-2c10ad4f0ea4"
      },
      "source": [
        "model=Sequential()\n",
        "\n",
        "model.add(Conv2D(32,(3,3),padding='same',activation='relu',input_shape=(128,128,3)))\n",
        "model.add(MaxPooling2D(2,2))\n",
        "model.add(SpatialDropout2D(0.1))\n",
        "\n",
        "model.add(Conv2D(32,(3,3),padding='same',activation='relu'))\n",
        "model.add(MaxPooling2D(2,2))\n",
        "model.add(BatchNormalization())\n",
        "model.add(SpatialDropout2D(0.2))\n",
        "\n",
        "model.add(Conv2D(32,(3,3),padding='same',activation='relu'))\n",
        "model.add(MaxPooling2D(2,2))\n",
        "model.add(BatchNormalization())\n",
        "model.add(SpatialDropout2D(0.2))\n",
        "\n",
        "model.add(Conv2D(32,(3,3),padding='same',activation='relu'))\n",
        "model.add(MaxPooling2D(2,2))\n",
        "model.add(BatchNormalization())\n",
        "model.add(SpatialDropout2D(0.3))\n",
        "\n",
        "model.add(Conv2D(32,(3,3),padding='same',activation='relu'))\n",
        "model.add(MaxPooling2D(2,2))\n",
        "model.add(BatchNormalization())\n",
        "model.add(SpatialDropout2D(0.3))\n",
        "\n",
        "model.add(Conv2D(32,(3,3),padding='same',activation='relu'))\n",
        "model.add(MaxPooling2D(2,2))\n",
        "model.add(BatchNormalization())\n",
        "model.add(SpatialDropout2D(0.3))\n",
        "\n",
        "model.add(Conv2D(32,(3,3),padding='same',activation='relu'))\n",
        "model.add(MaxPooling2D(2,2))\n",
        "model.add(BatchNormalization())\n",
        "model.add(SpatialDropout2D(0.5))\n",
        "\n",
        "model.add(Flatten())\n",
        "model.add(Dropout(0.5))\n",
        "model.add(Dense(output_dim=128,activation='relu'))\n",
        "model.add(Dropout(0.5))\n",
        "model.add(Dense(output_dim=128,activation='relu'))\n",
        "model.add(Dropout(0.5))\n",
        "model.add(Dense(output_dim=1,activation='sigmoid'))\n",
        "\n",
        "adam=keras.optimizers.Adam(learning_rate=0.001)\n",
        "model.compile(optimizer=adam,loss='binary_crossentropy',metrics=['accuracy'])"
      ],
      "execution_count": null,
      "outputs": [
        {
          "output_type": "error",
          "ename": "TypeError",
          "evalue": "ignored",
          "traceback": [
            "\u001b[0;31m---------------------------------------------------------------------------\u001b[0m",
            "\u001b[0;31mTypeError\u001b[0m                                 Traceback (most recent call last)",
            "\u001b[0;32m<ipython-input-4-1d41da8b4b4f>\u001b[0m in \u001b[0;36m<module>\u001b[0;34m()\u001b[0m\n\u001b[1;32m     37\u001b[0m \u001b[0mmodel\u001b[0m\u001b[0;34m.\u001b[0m\u001b[0madd\u001b[0m\u001b[0;34m(\u001b[0m\u001b[0mFlatten\u001b[0m\u001b[0;34m(\u001b[0m\u001b[0;34m)\u001b[0m\u001b[0;34m)\u001b[0m\u001b[0;34m\u001b[0m\u001b[0;34m\u001b[0m\u001b[0m\n\u001b[1;32m     38\u001b[0m \u001b[0mmodel\u001b[0m\u001b[0;34m.\u001b[0m\u001b[0madd\u001b[0m\u001b[0;34m(\u001b[0m\u001b[0mDropout\u001b[0m\u001b[0;34m(\u001b[0m\u001b[0;36m0.5\u001b[0m\u001b[0;34m)\u001b[0m\u001b[0;34m)\u001b[0m\u001b[0;34m\u001b[0m\u001b[0;34m\u001b[0m\u001b[0m\n\u001b[0;32m---> 39\u001b[0;31m \u001b[0mmodel\u001b[0m\u001b[0;34m.\u001b[0m\u001b[0madd\u001b[0m\u001b[0;34m(\u001b[0m\u001b[0mDense\u001b[0m\u001b[0;34m(\u001b[0m\u001b[0moutput_dim\u001b[0m\u001b[0;34m=\u001b[0m\u001b[0;36m128\u001b[0m\u001b[0;34m,\u001b[0m\u001b[0mactivation\u001b[0m\u001b[0;34m=\u001b[0m\u001b[0;34m'relu'\u001b[0m\u001b[0;34m)\u001b[0m\u001b[0;34m)\u001b[0m\u001b[0;34m\u001b[0m\u001b[0;34m\u001b[0m\u001b[0m\n\u001b[0m\u001b[1;32m     40\u001b[0m \u001b[0mmodel\u001b[0m\u001b[0;34m.\u001b[0m\u001b[0madd\u001b[0m\u001b[0;34m(\u001b[0m\u001b[0mDropout\u001b[0m\u001b[0;34m(\u001b[0m\u001b[0;36m0.5\u001b[0m\u001b[0;34m)\u001b[0m\u001b[0;34m)\u001b[0m\u001b[0;34m\u001b[0m\u001b[0;34m\u001b[0m\u001b[0m\n\u001b[1;32m     41\u001b[0m \u001b[0mmodel\u001b[0m\u001b[0;34m.\u001b[0m\u001b[0madd\u001b[0m\u001b[0;34m(\u001b[0m\u001b[0mDense\u001b[0m\u001b[0;34m(\u001b[0m\u001b[0moutput_dim\u001b[0m\u001b[0;34m=\u001b[0m\u001b[0;36m128\u001b[0m\u001b[0;34m,\u001b[0m\u001b[0mactivation\u001b[0m\u001b[0;34m=\u001b[0m\u001b[0;34m'relu'\u001b[0m\u001b[0;34m)\u001b[0m\u001b[0;34m)\u001b[0m\u001b[0;34m\u001b[0m\u001b[0;34m\u001b[0m\u001b[0m\n",
            "\u001b[0;31mTypeError\u001b[0m: __init__() missing 1 required positional argument: 'units'"
          ]
        }
      ]
    },
    {
      "cell_type": "code",
      "metadata": {
        "id": "G2_K9Wv5Xr0j"
      },
      "source": [
        ""
      ],
      "execution_count": null,
      "outputs": []
    }
  ]
}