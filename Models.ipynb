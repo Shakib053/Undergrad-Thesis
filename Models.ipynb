{
  "nbformat": 4,
  "nbformat_minor": 0,
  "metadata": {
    "colab": {
      "name": "Copy of mobilenet.ipynb",
      "provenance": [],
      "collapsed_sections": []
    },
    "kernelspec": {
      "name": "python3",
      "display_name": "Python 3"
    },
    "accelerator": "GPU"
  },
  "cells": [
    {
      "cell_type": "code",
      "metadata": {
        "id": "bQgPa445pTGV"
      },
      "source": [
        "from tensorflow.compat.v1 import ConfigProto\n",
        "from tensorflow.compat.v1 import InteractiveSession\n",
        "\n",
        "config = ConfigProto()\n",
        "config.gpu_options.per_process_gpu_memory_fraction = 0.5\n",
        "config.gpu_options.allow_growth = True\n",
        "session = InteractiveSession(config=config)"
      ],
      "execution_count": null,
      "outputs": []
    },
    {
      "cell_type": "code",
      "metadata": {
        "id": "3z4i9A4NpjCM",
        "colab": {
          "base_uri": "https://localhost:8080/"
        },
        "outputId": "e97b8e14-fa78-40a4-93d9-55f407a65467"
      },
      "source": [
        "\n",
        "import pandas as pd\n",
        "import numpy as np\n",
        "import tensorflow as tf\n",
        "import os\n",
        "import cv2\n",
        "from glob import glob\n",
        "import seaborn as sns\n",
        "import matplotlib.pyplot as plt\n",
        "import random\n",
        "\n",
        "from keras.preprocessing import image\n",
        "from tensorflow.keras.preprocessing.image import ImageDataGenerator\n",
        "from tensorflow.keras.optimizers import RMSprop,Adam\n",
        "from sklearn.model_selection import train_test_split\n",
        "import tensorflow as tf\n",
        "print(tf.__version__)\n",
        "from tensorflow import keras\n",
        "from tensorflow.keras import layers\n",
        "opt = keras.optimizers.Adam(learning_rate=0.0001)"
      ],
      "execution_count": null,
      "outputs": [
        {
          "output_type": "stream",
          "text": [
            "2.3.0\n"
          ],
          "name": "stdout"
        }
      ]
    },
    {
      "cell_type": "code",
      "metadata": {
        "colab": {
          "base_uri": "https://localhost:8080/"
        },
        "id": "lSp_ugpLpuTD",
        "outputId": "cedc8240-dcd1-4990-d464-645dcc701c86"
      },
      "source": [
        "from google.colab import drive\n",
        "drive.mount(\"/content/drive\")"
      ],
      "execution_count": null,
      "outputs": [
        {
          "output_type": "stream",
          "text": [
            "Mounted at /content/drive\n"
          ],
          "name": "stdout"
        }
      ]
    },
    {
      "cell_type": "code",
      "metadata": {
        "colab": {
          "base_uri": "https://localhost:8080/"
        },
        "id": "Pr706_B4p8aJ",
        "outputId": "c300db94-6152-47c4-d3c5-9d41031d017a"
      },
      "source": [
        "path = \"/content/drive/MyDrive/Dataset/chest_xray\"\n",
        "os.listdir(path)"
      ],
      "execution_count": null,
      "outputs": [
        {
          "output_type": "execute_result",
          "data": {
            "text/plain": [
              "['.DS_Store', 'test', 'train', 'val']"
            ]
          },
          "metadata": {
            "tags": []
          },
          "execution_count": 4
        }
      ]
    },
    {
      "cell_type": "code",
      "metadata": {
        "id": "k0f1wRFgqXhr"
      },
      "source": [
        "#IMAGE_SIZE = [224, 224]\n",
        "\n",
        "train_path = '/content/drive/MyDrive/Dataset/chest_xray/train'\n",
        "valid_path = '/content/drive/MyDrive/Dataset/chest_xray/test'"
      ],
      "execution_count": null,
      "outputs": []
    },
    {
      "cell_type": "code",
      "metadata": {
        "id": "RlWz49l-qiBP"
      },
      "source": [
        "\n",
        "\n",
        "# Import the Vgg 16 library as shown below and add preprocessing layer to the front of VGG\n",
        "# Here we will be using imagenet weights\n",
        "from tensorflow.keras.applications.resnet50 import ResNet50\n",
        "#resnet = ResNet50(input_shape=IMAGE_SIZE + [3], weights='imagenet', include_top=False)\n",
        "\n"
      ],
      "execution_count": null,
      "outputs": []
    },
    {
      "cell_type": "code",
      "metadata": {
        "id": "mA1etxMIiqbs",
        "colab": {
          "base_uri": "https://localhost:8080/"
        },
        "outputId": "8bd4ebc2-7439-4a6d-ee87-ecb76892caa0"
      },
      "source": [
        "pretrained_model2 = ResNet50(weights= 'imagenet', include_top=False, input_shape= (224,224,3))\n",
        "\n",
        "#freazing the trained layers\n",
        "for layers in pretrained_model2.layers:\n",
        "    layers.trainable = False\n",
        "#pretrained_model3.summary()"
      ],
      "execution_count": null,
      "outputs": [
        {
          "output_type": "stream",
          "text": [
            "Downloading data from https://storage.googleapis.com/tensorflow/keras-applications/resnet/resnet50_weights_tf_dim_ordering_tf_kernels_notop.h5\n",
            "94773248/94765736 [==============================] - 1s 0us/step\n"
          ],
          "name": "stdout"
        }
      ]
    },
    {
      "cell_type": "code",
      "metadata": {
        "id": "OKTUcCmnizR6"
      },
      "source": [
        "import os \n",
        "import zipfile \n",
        "import tensorflow as tf \n",
        "from tensorflow.keras.optimizers import RMSprop \n",
        "from tensorflow.keras.preprocessing.image import ImageDataGenerator \n",
        "from tensorflow.keras import layers \n",
        "from tensorflow.keras import Model \n",
        "from tensorflow.keras.applications.inception_v3 import InceptionV3 \n",
        "from tensorflow.keras.optimizers import RMSprop \n",
        "last_layer=pretrained_model2.get_layer('conv5_block3_1_relu')\n",
        "last_output = last_layer.output\n",
        "\n",
        "x=tf.keras.layers.Flatten()(last_output)\n",
        "x=tf.keras.layers.Dense(1024,activation='relu')(x)\n",
        "x=tf.keras.layers.Dropout(0.2)(x)\n",
        "x=tf.keras.layers.Dense(256,activation='relu')(x)\n",
        "x=tf.keras.layers.Dropout(0.2)(x)\n",
        "x=tf.keras.layers.Dense(1,activation='sigmoid')(x)\n",
        "\n",
        "model2=tf.keras.Model(pretrained_model2.input,x)\n",
        "\n",
        "model2.compile(optimizer=RMSprop(lr=0.0001),\n",
        "       #(lr=0.0001),\n",
        "              loss='binary_crossentropy',\n",
        "               metrics=['accuracy','Precision','Recall'])\n",
        "\n",
        "#model3.summary()"
      ],
      "execution_count": null,
      "outputs": []
    },
    {
      "cell_type": "code",
      "metadata": {
        "id": "ZXE7M5Wxi0_I"
      },
      "source": [
        ""
      ],
      "execution_count": null,
      "outputs": []
    },
    {
      "cell_type": "code",
      "metadata": {
        "colab": {
          "base_uri": "https://localhost:8080/"
        },
        "id": "FTyFFj7Jqr1f",
        "outputId": "4cc69491-915a-4052-afd8-7cae2fd4f236"
      },
      "source": [
        "# useful for getting number of output classes\n",
        "folders = glob('/content/drive/MyDrive/Dataset/chest_xray/*')\n",
        "folders"
      ],
      "execution_count": null,
      "outputs": [
        {
          "output_type": "execute_result",
          "data": {
            "text/plain": [
              "['/content/drive/MyDrive/Dataset/chest_xray/test',\n",
              " '/content/drive/MyDrive/Dataset/chest_xray/train',\n",
              " '/content/drive/MyDrive/Dataset/chest_xray/val']"
            ]
          },
          "metadata": {
            "tags": []
          },
          "execution_count": 27
        }
      ]
    },
    {
      "cell_type": "code",
      "metadata": {
        "id": "dHjmcP-orLGH"
      },
      "source": [
        "# Use the Image Data Generator to import the images from the dataset\n",
        "#from tensorflow.keras.preprocessing.image import ImageDataGenerator\n",
        "\n",
        "#train_datagen = ImageDataGenerator(rescale = 1./255,\n",
        "   #                                shear_range = 0.2,\n",
        "  #                                 zoom_range = 0.2,\n",
        " #                                  horizontal_flip = True)\n",
        "\n",
        "#test_datagen = ImageDataGenerator(rescale = 1./255)\n",
        "\n",
        "\n",
        "train_datagen2=ImageDataGenerator(rescale=1.0/255,\n",
        "                                 rotation_range=30,\n",
        "                                 width_shift_range=0.2,\n",
        "                                 height_shift_range=0.2,\n",
        "                                 zoom_range=0.2,\n",
        "                                 )\n",
        "\n",
        "val_datagen2=ImageDataGenerator(rescale=1.0/255)\n",
        "\n",
        "test_datagen2=ImageDataGenerator(rescale=1.0/255)"
      ],
      "execution_count": null,
      "outputs": []
    },
    {
      "cell_type": "code",
      "metadata": {
        "colab": {
          "base_uri": "https://localhost:8080/"
        },
        "id": "uqlH6LjgrPmn",
        "outputId": "586b766a-78b6-46b9-fbc0-d41e6c49012c"
      },
      "source": [
        "# Make sure you provide the same target size as initialied for the image size\n",
        "val_generator2=val_datagen2.flow_from_directory('/content/drive/MyDrive/Dataset/chest_xray/val',\n",
        "                                               target_size=(224,224),\n",
        "                                                  batch_size=50,\n",
        "                                                class_mode='binary')\n",
        "\n",
        "training_set = train_datagen2.flow_from_directory('/content/drive/MyDrive/Dataset/chest_xray/train',\n",
        "                                                 target_size = (224,224),\n",
        "                                                 batch_size = 50,\n",
        "                                                 class_mode = 'binary')"
      ],
      "execution_count": null,
      "outputs": [
        {
          "output_type": "stream",
          "text": [
            "Found 16 images belonging to 2 classes.\n",
            "Found 5216 images belonging to 2 classes.\n"
          ],
          "name": "stdout"
        }
      ]
    },
    {
      "cell_type": "code",
      "metadata": {
        "colab": {
          "base_uri": "https://localhost:8080/"
        },
        "id": "zC5tWQyerZuR",
        "outputId": "5102ee98-cb8a-4a05-cd5e-b9300e2b9f07"
      },
      "source": [
        "test_set = test_datagen2.flow_from_directory('/content/drive/MyDrive/Dataset/chest_xray/test',\n",
        "                                            target_size = (224,224),\n",
        "                                            batch_size = 50,\n",
        "                                            class_mode = 'binary')"
      ],
      "execution_count": null,
      "outputs": [
        {
          "output_type": "stream",
          "text": [
            "Found 624 images belonging to 2 classes.\n"
          ],
          "name": "stdout"
        }
      ]
    },
    {
      "cell_type": "code",
      "metadata": {
        "colab": {
          "base_uri": "https://localhost:8080/"
        },
        "id": "xYaV2tjnrgjb",
        "outputId": "7bc7b686-9fe4-49a7-9ce7-4421130c4d6c"
      },
      "source": [
        "\n",
        "\n",
        "# fit the model\n",
        "# Run the cell. It will take some time to execute\n",
        "#r = model.fit_generator(\n",
        "  #training_set,\n",
        "  #validation_data=test_set,\n",
        "  #epochs=20,\n",
        "  #steps_per_epoch=len(training_set),\n",
        " # validation_steps=len(test_set)\n",
        "#)\n",
        "\n",
        "history2=model2.fit_generator(training_set,validation_data=val_generator2,\n",
        "                              #steps_per_epoch = 100, \n",
        "                                 epochs = 20, \n",
        "                               #validation_steps = 50,\n",
        "                                   verbose=2)\n"
      ],
      "execution_count": null,
      "outputs": [
        {
          "output_type": "stream",
          "text": [
            "WARNING:tensorflow:From <ipython-input-12-ae915391f079>:17: Model.fit_generator (from tensorflow.python.keras.engine.training) is deprecated and will be removed in a future version.\n",
            "Instructions for updating:\n",
            "Please use Model.fit, which supports generators.\n",
            "Epoch 1/20\n",
            "105/105 - 1596s - loss: 0.5864 - accuracy: 0.7358 - precision: 0.7440 - recall: 0.9825 - val_loss: 1.0297 - val_accuracy: 0.5000 - val_precision: 0.5000 - val_recall: 1.0000\n",
            "Epoch 2/20\n",
            "105/105 - 110s - loss: 0.5552 - accuracy: 0.7423 - precision: 0.7436 - recall: 0.9969 - val_loss: 0.7709 - val_accuracy: 0.5000 - val_precision: 0.5000 - val_recall: 1.0000\n",
            "Epoch 3/20\n",
            "105/105 - 109s - loss: 0.5140 - accuracy: 0.7477 - precision: 0.7567 - recall: 0.9734 - val_loss: 0.6831 - val_accuracy: 0.5625 - val_precision: 0.5333 - val_recall: 1.0000\n",
            "Epoch 4/20\n",
            "105/105 - 109s - loss: 0.4852 - accuracy: 0.7588 - precision: 0.7786 - recall: 0.9437 - val_loss: 0.5469 - val_accuracy: 0.6875 - val_precision: 0.6154 - val_recall: 1.0000\n",
            "Epoch 5/20\n",
            "105/105 - 109s - loss: 0.4573 - accuracy: 0.7682 - precision: 0.7970 - recall: 0.9231 - val_loss: 0.6805 - val_accuracy: 0.5625 - val_precision: 0.5333 - val_recall: 1.0000\n",
            "Epoch 6/20\n",
            "105/105 - 111s - loss: 0.4477 - accuracy: 0.7770 - precision: 0.8116 - recall: 0.9115 - val_loss: 0.5315 - val_accuracy: 0.6875 - val_precision: 0.6154 - val_recall: 1.0000\n",
            "Epoch 7/20\n",
            "105/105 - 112s - loss: 0.4259 - accuracy: 0.7816 - precision: 0.8226 - recall: 0.9001 - val_loss: 0.9705 - val_accuracy: 0.5625 - val_precision: 0.5333 - val_recall: 1.0000\n",
            "Epoch 8/20\n",
            "105/105 - 113s - loss: 0.4222 - accuracy: 0.7868 - precision: 0.8303 - recall: 0.8963 - val_loss: 0.6898 - val_accuracy: 0.6250 - val_precision: 0.5714 - val_recall: 1.0000\n",
            "Epoch 9/20\n",
            "105/105 - 111s - loss: 0.4067 - accuracy: 0.7964 - precision: 0.8462 - recall: 0.8872 - val_loss: 0.7160 - val_accuracy: 0.6250 - val_precision: 0.5714 - val_recall: 1.0000\n",
            "Epoch 10/20\n",
            "105/105 - 105s - loss: 0.3943 - accuracy: 0.8096 - precision: 0.8553 - recall: 0.8952 - val_loss: 0.7801 - val_accuracy: 0.6250 - val_precision: 0.5714 - val_recall: 1.0000\n",
            "Epoch 11/20\n",
            "105/105 - 104s - loss: 0.3932 - accuracy: 0.8062 - precision: 0.8584 - recall: 0.8852 - val_loss: 0.6612 - val_accuracy: 0.6875 - val_precision: 0.6154 - val_recall: 1.0000\n",
            "Epoch 12/20\n",
            "105/105 - 103s - loss: 0.3818 - accuracy: 0.8096 - precision: 0.8637 - recall: 0.8831 - val_loss: 0.7919 - val_accuracy: 0.6250 - val_precision: 0.5714 - val_recall: 1.0000\n",
            "Epoch 13/20\n",
            "105/105 - 103s - loss: 0.3835 - accuracy: 0.8204 - precision: 0.8721 - recall: 0.8885 - val_loss: 0.9720 - val_accuracy: 0.6250 - val_precision: 0.5714 - val_recall: 1.0000\n",
            "Epoch 14/20\n",
            "105/105 - 103s - loss: 0.3834 - accuracy: 0.8115 - precision: 0.8664 - recall: 0.8823 - val_loss: 0.6573 - val_accuracy: 0.6875 - val_precision: 0.6154 - val_recall: 1.0000\n",
            "Epoch 15/20\n",
            "105/105 - 102s - loss: 0.3710 - accuracy: 0.8137 - precision: 0.8742 - recall: 0.8751 - val_loss: 0.5760 - val_accuracy: 0.6875 - val_precision: 0.6154 - val_recall: 1.0000\n",
            "Epoch 16/20\n",
            "105/105 - 102s - loss: 0.3769 - accuracy: 0.8077 - precision: 0.8701 - recall: 0.8712 - val_loss: 0.9993 - val_accuracy: 0.6250 - val_precision: 0.5714 - val_recall: 1.0000\n",
            "Epoch 17/20\n",
            "105/105 - 102s - loss: 0.3676 - accuracy: 0.8169 - precision: 0.8830 - recall: 0.8686 - val_loss: 1.0578 - val_accuracy: 0.6250 - val_precision: 0.5714 - val_recall: 1.0000\n",
            "Epoch 18/20\n",
            "105/105 - 101s - loss: 0.3657 - accuracy: 0.8232 - precision: 0.8838 - recall: 0.8774 - val_loss: 1.3667 - val_accuracy: 0.5625 - val_precision: 0.5333 - val_recall: 1.0000\n",
            "Epoch 19/20\n",
            "105/105 - 102s - loss: 0.3676 - accuracy: 0.8175 - precision: 0.8815 - recall: 0.8715 - val_loss: 0.5151 - val_accuracy: 0.8125 - val_precision: 0.7273 - val_recall: 1.0000\n",
            "Epoch 20/20\n",
            "105/105 - 102s - loss: 0.3616 - accuracy: 0.8190 - precision: 0.8880 - recall: 0.8655 - val_loss: 0.7629 - val_accuracy: 0.6875 - val_precision: 0.6154 - val_recall: 1.0000\n"
          ],
          "name": "stdout"
        }
      ]
    },
    {
      "cell_type": "code",
      "metadata": {
        "colab": {
          "base_uri": "https://localhost:8080/",
          "height": 545
        },
        "id": "lKXgh5SI41N2",
        "outputId": "e48561d7-9a32-442c-a66c-b337328c45d8"
      },
      "source": [
        "acc2 = history2.history['accuracy']\n",
        "val_acc2 = history2.history['val_accuracy']\n",
        "\n",
        "\n",
        "loss2 = history2.history['loss']\n",
        "val_loss2 = history2.history['val_loss']\n",
        "epochs = range(len(acc2))\n",
        "\n",
        "plt.plot(epochs, acc2, 'r', label='Training accuracy')\n",
        "plt.plot(epochs, val_acc2, 'b', label='Validation accuracy')\n",
        "plt.title('Training and validation accuracy')\n",
        "plt.legend()\n",
        "plt.show()\n",
        "\n",
        "\n",
        "\n",
        "plt.plot(epochs, loss2, 'r', label='Training Loss')\n",
        "plt.plot(epochs, val_loss2, 'b', label='Validation Loss')\n",
        "plt.title('Training and validation loss')\n",
        "plt.legend()\n",
        "\n",
        "plt.show() "
      ],
      "execution_count": null,
      "outputs": [
        {
          "output_type": "display_data",
          "data": {
            "image/png": "[encoded data removed]",
            "text/plain": [
              "<Figure size 432x288 with 1 Axes>"
            ]
          },
          "metadata": {
            "tags": [],
            "needs_background": "light"
          }
        },
        {
          "output_type": "display_data",
          "data": {
            "image/png": "[encoded data removed]",
            "text/plain": [
              "<Figure size 432x288 with 1 Axes>"
            ]
          },
          "metadata": {
            "tags": [],
            "needs_background": "light"
          }
        }
      ]
    },
    {
      "cell_type": "code",
      "metadata": {
        "colab": {
          "base_uri": "https://localhost:8080/"
        },
        "id": "2x_UWqUr42x1",
        "outputId": "1b5c0b51-21b5-4ce2-8eb9-dc5d199e7f93"
      },
      "source": [
        "eval_result2 = model2.evaluate_generator(test_set, 624)\n",
        "print('loss  :', eval_result2[0])\n",
        "print('accuracy  :', eval_result2[1])\n",
        "print('Precision :', eval_result2[2])\n",
        "print('Recall :', eval_result2[3])\n",
        "\n",
        "\n",
        "print('F1-score:', (2*eval_result2[2]*eval_result2[3]/(eval_result2[2]+eval_result2[3])))\n"
      ],
      "execution_count": null,
      "outputs": [
        {
          "output_type": "stream",
          "text": [
            "WARNING:tensorflow:From <ipython-input-14-4b497d6987a8>:1: Model.evaluate_generator (from tensorflow.python.keras.engine.training) is deprecated and will be removed in a future version.\n",
            "Instructions for updating:\n",
            "Please use Model.evaluate, which supports generators.\n",
            "WARNING:tensorflow:Your input ran out of data; interrupting training. Make sure that your dataset or generator can generate at least `steps_per_epoch * epochs` batches (in this case, 624 batches). You may need to use the repeat() function when building your dataset.\n",
            "loss  : 0.44030898809432983\n",
            "accuracy  : 0.8365384340286255\n",
            "Precision : 0.8444976210594177\n",
            "Recall : 0.9051281809806824\n",
            "F1-score: 0.8737623721606563\n"
          ],
          "name": "stdout"
        }
      ]
    },
    {
      "cell_type": "code",
      "metadata": {
        "id": "EUiNs04v47H_"
      },
      "source": [
        ""
      ],
      "execution_count": null,
      "outputs": []
    },
    {
      "cell_type": "code",
      "metadata": {
        "id": "jsGuIjDO47Ts"
      },
      "source": [
        "from tensorflow.keras.applications.inception_v3 import InceptionV3"
      ],
      "execution_count": null,
      "outputs": []
    },
    {
      "cell_type": "code",
      "metadata": {
        "colab": {
          "base_uri": "https://localhost:8080/"
        },
        "id": "1htO_O5L5AAl",
        "outputId": "3a4f6556-fa51-485f-8d47-829aaf41a8e6"
      },
      "source": [
        "pretrained_model3=InceptionV3(input_shape=(229,229,3),\n",
        "                             include_top=False,\n",
        "                             weights='imagenet')\n",
        "#freazing the trained layers\n",
        "for layers in pretrained_model3.layers:\n",
        "    layers.trainable=False"
      ],
      "execution_count": null,
      "outputs": [
        {
          "output_type": "stream",
          "text": [
            "Downloading data from https://storage.googleapis.com/tensorflow/keras-applications/inception_v3/inception_v3_weights_tf_dim_ordering_tf_kernels_notop.h5\n",
            "87916544/87910968 [==============================] - 1s 0us/step\n"
          ],
          "name": "stdout"
        }
      ]
    },
    {
      "cell_type": "code",
      "metadata": {
        "id": "x4riCeov5DQj"
      },
      "source": [
        "last_layer=pretrained_model3.get_layer('mixed10')\n",
        "last_output = last_layer.output"
      ],
      "execution_count": null,
      "outputs": []
    },
    {
      "cell_type": "code",
      "metadata": {
        "id": "Q8wo5lkM5FtT"
      },
      "source": [
        "x=tf.keras.layers.Flatten()(last_output)\n",
        "x=tf.keras.layers.Dense(1024,activation='relu')(x)\n",
        "x=tf.keras.layers.Dropout(0.2)(x)\n",
        "x=tf.keras.layers.Dense(256,activation='relu')(x)\n",
        "x=tf.keras.layers.Dropout(0.2)(x)\n",
        "x=tf.keras.layers.Dense(1,activation='sigmoid')(x)\n",
        "\n",
        "model3=tf.keras.Model(pretrained_model3.input,x)\n",
        "\n",
        "model3.compile(optimizer=opt,\n",
        "              loss='binary_crossentropy',\n",
        "               metrics=['accuracy','Precision','Recall'])\n",
        "# model4.summary()"
      ],
      "execution_count": null,
      "outputs": []
    },
    {
      "cell_type": "code",
      "metadata": {
        "colab": {
          "base_uri": "https://localhost:8080/"
        },
        "id": "1bDBXDJs5Ij_",
        "outputId": "9d62faf5-e983-49b5-e013-c1cd8a5c0143"
      },
      "source": [
        "history3=model3.fit(training_set,validation_data=val_generator2,epochs=20,verbose=2)"
      ],
      "execution_count": null,
      "outputs": [
        {
          "output_type": "stream",
          "text": [
            "Epoch 1/20\n",
            "105/105 - 103s - loss: 0.4918 - accuracy: 0.8518 - precision: 0.8961 - recall: 0.9055 - val_loss: 0.5876 - val_accuracy: 0.7500 - val_precision: 0.6667 - val_recall: 1.0000\n",
            "Epoch 2/20\n",
            "105/105 - 103s - loss: 0.2406 - accuracy: 0.9055 - precision: 0.9314 - recall: 0.9422 - val_loss: 0.3508 - val_accuracy: 0.8125 - val_precision: 0.7273 - val_recall: 1.0000\n",
            "Epoch 3/20\n",
            "105/105 - 103s - loss: 0.2011 - accuracy: 0.9158 - precision: 0.9380 - recall: 0.9494 - val_loss: 0.2694 - val_accuracy: 0.8125 - val_precision: 0.8571 - val_recall: 0.7500\n",
            "Epoch 4/20\n",
            "105/105 - 103s - loss: 0.1817 - accuracy: 0.9316 - precision: 0.9513 - recall: 0.9569 - val_loss: 0.2764 - val_accuracy: 0.9375 - val_precision: 0.8889 - val_recall: 1.0000\n",
            "Epoch 5/20\n",
            "105/105 - 103s - loss: 0.1823 - accuracy: 0.9247 - precision: 0.9469 - recall: 0.9520 - val_loss: 0.2951 - val_accuracy: 0.8750 - val_precision: 0.8750 - val_recall: 0.8750\n",
            "Epoch 6/20\n",
            "105/105 - 101s - loss: 0.1745 - accuracy: 0.9333 - precision: 0.9530 - recall: 0.9574 - val_loss: 0.3959 - val_accuracy: 0.9375 - val_precision: 0.8889 - val_recall: 1.0000\n",
            "Epoch 7/20\n",
            "105/105 - 101s - loss: 0.1682 - accuracy: 0.9342 - precision: 0.9559 - recall: 0.9556 - val_loss: 0.7183 - val_accuracy: 0.6250 - val_precision: 0.5714 - val_recall: 1.0000\n",
            "Epoch 8/20\n",
            "105/105 - 101s - loss: 0.1806 - accuracy: 0.9268 - precision: 0.9493 - recall: 0.9523 - val_loss: 0.3505 - val_accuracy: 0.9375 - val_precision: 0.8889 - val_recall: 1.0000\n",
            "Epoch 9/20\n",
            "105/105 - 101s - loss: 0.1783 - accuracy: 0.9258 - precision: 0.9506 - recall: 0.9494 - val_loss: 0.3873 - val_accuracy: 0.9375 - val_precision: 0.8889 - val_recall: 1.0000\n",
            "Epoch 10/20\n",
            "105/105 - 106s - loss: 0.1625 - accuracy: 0.9394 - precision: 0.9580 - recall: 0.9605 - val_loss: 0.5137 - val_accuracy: 0.6875 - val_precision: 0.6154 - val_recall: 1.0000\n",
            "Epoch 11/20\n",
            "105/105 - 104s - loss: 0.1573 - accuracy: 0.9421 - precision: 0.9601 - recall: 0.9621 - val_loss: 0.5658 - val_accuracy: 0.6250 - val_precision: 0.5714 - val_recall: 1.0000\n",
            "Epoch 12/20\n",
            "105/105 - 103s - loss: 0.1492 - accuracy: 0.9398 - precision: 0.9583 - recall: 0.9608 - val_loss: 0.3290 - val_accuracy: 0.9375 - val_precision: 0.8889 - val_recall: 1.0000\n",
            "Epoch 13/20\n",
            "105/105 - 103s - loss: 0.1510 - accuracy: 0.9392 - precision: 0.9587 - recall: 0.9595 - val_loss: 0.3543 - val_accuracy: 0.9375 - val_precision: 0.8889 - val_recall: 1.0000\n",
            "Epoch 14/20\n",
            "105/105 - 103s - loss: 0.1419 - accuracy: 0.9446 - precision: 0.9635 - recall: 0.9618 - val_loss: 0.4430 - val_accuracy: 0.8750 - val_precision: 0.8000 - val_recall: 1.0000\n",
            "Epoch 15/20\n",
            "105/105 - 102s - loss: 0.1346 - accuracy: 0.9461 - precision: 0.9668 - recall: 0.9605 - val_loss: 0.7170 - val_accuracy: 0.6250 - val_precision: 0.5714 - val_recall: 1.0000\n",
            "Epoch 16/20\n",
            "105/105 - 102s - loss: 0.1478 - accuracy: 0.9446 - precision: 0.9635 - recall: 0.9618 - val_loss: 0.7420 - val_accuracy: 0.6250 - val_precision: 0.5714 - val_recall: 1.0000\n",
            "Epoch 17/20\n",
            "105/105 - 102s - loss: 0.1353 - accuracy: 0.9415 - precision: 0.9610 - recall: 0.9603 - val_loss: 0.3142 - val_accuracy: 0.9375 - val_precision: 0.8889 - val_recall: 1.0000\n",
            "Epoch 18/20\n",
            "105/105 - 102s - loss: 0.1331 - accuracy: 0.9457 - precision: 0.9636 - recall: 0.9634 - val_loss: 0.3198 - val_accuracy: 0.8750 - val_precision: 0.8000 - val_recall: 1.0000\n",
            "Epoch 19/20\n",
            "105/105 - 102s - loss: 0.1325 - accuracy: 0.9475 - precision: 0.9661 - recall: 0.9631 - val_loss: 0.3617 - val_accuracy: 0.8750 - val_precision: 0.8000 - val_recall: 1.0000\n",
            "Epoch 20/20\n",
            "105/105 - 102s - loss: 0.1299 - accuracy: 0.9490 - precision: 0.9657 - recall: 0.9657 - val_loss: 0.3376 - val_accuracy: 0.9375 - val_precision: 0.8889 - val_recall: 1.0000\n"
          ],
          "name": "stdout"
        }
      ]
    },
    {
      "cell_type": "code",
      "metadata": {
        "id": "NN9SQUrtSvVo"
      },
      "source": [
        ""
      ],
      "execution_count": null,
      "outputs": []
    },
    {
      "cell_type": "code",
      "metadata": {
        "colab": {
          "base_uri": "https://localhost:8080/",
          "height": 1000
        },
        "id": "dtFlU6VcGPWT",
        "outputId": "12183301-7330-498b-8865-f03200ed5a80"
      },
      "source": [
        "acc3 = history3.history['accuracy']\n",
        "val_acc3 = history3.history['val_accuracy']\n",
        "\n",
        "train_precision3=history3.history['precision']\n",
        "val_precision3=history3.history['val_precision']\n",
        "\n",
        "train_recall3=history3.history['recall']\n",
        "val_recall3=history3.history['val_recall']\n",
        "\n",
        "loss3 = history3.history['loss']\n",
        "val_loss3 = history3.history['val_loss']\n",
        "epochs = range(len(acc3))\n",
        "\n",
        "plt.plot(epochs, acc3, 'r', label='Training accuracy')\n",
        "plt.plot(epochs, val_acc3, 'b', label='Validation accuracy')\n",
        "plt.title('Training and validation accuracy')\n",
        "plt.legend()\n",
        "plt.show()\n",
        "\n",
        "plt.plot(epochs, train_precision3, 'r', label='Training precision')\n",
        "plt.plot(epochs, val_precision3, 'b', label='Validation precision')\n",
        "plt.title('Training and validation precision')\n",
        "plt.legend()\n",
        "plt.show()\n",
        "\n",
        "plt.plot(epochs, train_recall3, 'r', label='Training recall')\n",
        "plt.plot(epochs, val_recall3, 'b', label='Validation recall')\n",
        "plt.title('Training and validation recall')\n",
        "plt.legend()\n",
        "plt.show()\n",
        "\n",
        "plt.plot(epochs, loss3, 'r', label='Training Loss')\n",
        "plt.plot(epochs, val_loss3, 'b', label='Validation Loss')\n",
        "plt.title('Training and validation loss')\n",
        "plt.legend()\n",
        "\n",
        "plt.show()"
      ],
      "execution_count": null,
      "outputs": [
        {
          "output_type": "display_data",
          "data": {
            "image/png": "[encoded data removed]",
            "text/plain": [
              "<Figure size 432x288 with 1 Axes>"
            ]
          },
          "metadata": {
            "tags": [],
            "needs_background": "light"
          }
        },
        {
          "output_type": "display_data",
          "data": {
            "image/png": "[encoded data removed]",
            "text/plain": [
              "<Figure size 432x288 with 1 Axes>"
            ]
          },
          "metadata": {
            "tags": [],
            "needs_background": "light"
          }
        },
        {
          "output_type": "display_data",
          "data": {
            "image/png": "[encoded data removed]",
            "text/plain": [
              "<Figure size 432x288 with 1 Axes>"
            ]
          },
          "metadata": {
            "tags": [],
            "needs_background": "light"
          }
        },
        {
          "output_type": "display_data",
          "data": {
            "image/png": "[encoded data removed]",
            "text/plain": [
              "<Figure size 432x288 with 1 Axes>"
            ]
          },
          "metadata": {
            "tags": [],
            "needs_background": "light"
          }
        }
      ]
    },
    {
      "cell_type": "code",
      "metadata": {
        "colab": {
          "base_uri": "https://localhost:8080/"
        },
        "id": "xIxqBE13GTSP",
        "outputId": "bb44bc5d-73f7-44d8-f1f0-44890f1f233a"
      },
      "source": [
        "eval_result3 = model3.evaluate_generator(test_set, 624)\n",
        "print('loss  :', eval_result3[0])\n",
        "print('accuracy  :', eval_result3[1])\n",
        "print('Precision :', eval_result3[2])\n",
        "print('Recall :', eval_result3[3])\n",
        "\n",
        "\n",
        "print('F1-score:', (2*eval_result3[2]*eval_result3[3]/(eval_result3[2]+eval_result3[3])))\n"
      ],
      "execution_count": null,
      "outputs": [
        {
          "output_type": "stream",
          "text": [
            "WARNING:tensorflow:Your input ran out of data; interrupting training. Make sure that your dataset or generator can generate at least `steps_per_epoch * epochs` batches (in this case, 624 batches). You may need to use the repeat() function when building your dataset.\n",
            "loss  : 0.2951642572879791\n",
            "accuracy  : 0.875\n",
            "Precision : 0.8661971688270569\n",
            "Recall : 0.9461538195610046\n",
            "F1-score: 0.9044117447775127\n"
          ],
          "name": "stdout"
        }
      ]
    },
    {
      "cell_type": "code",
      "metadata": {
        "id": "dCn5SENYGWH2"
      },
      "source": [
        ""
      ],
      "execution_count": null,
      "outputs": []
    },
    {
      "cell_type": "code",
      "metadata": {
        "id": "21NeH-PBEhWv"
      },
      "source": [
        "import pandas as pd\n",
        "import numpy as np\n",
        "import os, cv2, random, pickle\n",
        "import tensorflow as tf\n",
        "from tensorflow.keras.preprocessing.image import ImageDataGenerator\n",
        "from tensorflow.keras.models import Sequential\n",
        "from tensorflow.keras.layers import Dense, Dropout, Activation, Flatten, Conv2D, MaxPooling2D\n",
        "from tensorflow.keras.callbacks import EarlyStopping\n",
        "import matplotlib.pyplot as plt\n",
        "from matplotlib.colors import LogNorm"
      ],
      "execution_count": null,
      "outputs": []
    },
    {
      "cell_type": "code",
      "metadata": {
        "id": "MuySkIQ4Eso_"
      },
      "source": [
        "size = 224\n",
        "training_data = []"
      ],
      "execution_count": null,
      "outputs": []
    },
    {
      "cell_type": "code",
      "metadata": {
        "id": "rWUdM2HrExJq"
      },
      "source": [
        "#create import function \n",
        "def image_import (img_path, class_type, appended_list):\n",
        "    for i in os.listdir(img_path):\n",
        "        read_path = os.path.join(img_path, i)\n",
        "        try:\n",
        "            img = cv2.imread(read_path)\n",
        "            img = cv2.resize(img, (size, size))\n",
        "            appended_list.append([img, class_type])\n",
        "        except Exception as e:\n",
        "            print(f'Image error: {i}')\n",
        "            pass"
      ],
      "execution_count": null,
      "outputs": []
    },
    {
      "cell_type": "code",
      "metadata": {
        "colab": {
          "base_uri": "https://localhost:8080/"
        },
        "id": "J7UHuar5E1hD",
        "outputId": "1d6c349d-83f9-4ed8-ec78-6f1becfbcf94"
      },
      "source": [
        "#import pneumonia images\n",
        "img_path = '/content/drive/MyDrive/Dataset/chest_xray/train/PNEUMONIA'\n",
        "image_import(img_path,1, training_data)"
      ],
      "execution_count": null,
      "outputs": [
        {
          "output_type": "stream",
          "text": [
            "Image error: .DS_Store\n"
          ],
          "name": "stdout"
        }
      ]
    },
    {
      "cell_type": "code",
      "metadata": {
        "colab": {
          "base_uri": "https://localhost:8080/"
        },
        "id": "m5qbykqfFBGH",
        "outputId": "c1ae46e3-90b8-48df-8f7c-5de7f2b8dd43"
      },
      "source": [
        "#import normal lung images\n",
        "img_path = '/content/drive/MyDrive/Dataset/chest_xray/train/NORMAL'\n",
        "image_import(img_path, 0, training_data)"
      ],
      "execution_count": null,
      "outputs": [
        {
          "output_type": "stream",
          "text": [
            "Image error: .DS_Store\n"
          ],
          "name": "stdout"
        }
      ]
    },
    {
      "cell_type": "code",
      "metadata": {
        "id": "HNRZIBOqJJIH"
      },
      "source": [
        "#shuffle training data\n",
        "random.shuffle(training_data)"
      ],
      "execution_count": null,
      "outputs": []
    },
    {
      "cell_type": "code",
      "metadata": {
        "id": "bKoKmmJ-JMbl"
      },
      "source": [
        "#seperate XY\n",
        "features = []\n",
        "targets = []\n",
        "\n",
        "for f, t in training_data:\n",
        "    features.append(f)\n",
        "    targets.append(t)\n",
        "\n",
        "X = np.array(features).reshape(-1, size, size, 3)\n",
        "Y = np.array(targets)"
      ],
      "execution_count": null,
      "outputs": []
    },
    {
      "cell_type": "code",
      "metadata": {
        "id": "LFSUmUr3JQCL"
      },
      "source": [
        "datagen = ImageDataGenerator(\n",
        "        rescale=1./255,\n",
        "        shear_range=0.2,\n",
        "        zoom_range=0.2,\n",
        "        horizontal_flip=False,\n",
        "        validation_split=0.2,\n",
        "        brightness_range=[0.2,1.0],)\n",
        "test_img = datagen.flow(\n",
        "    X,\n",
        "    Y,\n",
        "    subset=\"training\")\n",
        "val_img = datagen.flow(\n",
        "    X,\n",
        "    Y,\n",
        "    subset=\"validation\")"
      ],
      "execution_count": null,
      "outputs": []
    },
    {
      "cell_type": "code",
      "metadata": {
        "id": "1qQpni2WEOsi",
        "colab": {
          "base_uri": "https://localhost:8080/"
        },
        "outputId": "3caa4b09-5db9-4390-d779-02e66371bc30"
      },
      "source": [
        "#MobileNetV2 model\n",
        "base_model=tf.keras.applications.MobileNetV2(\n",
        "    include_top=False,\n",
        "    weights=\"imagenet\",\n",
        "    input_shape=(224, 224, 3),\n",
        "    pooling=max,\n",
        "    classifier_activation=\"softmax\",\n",
        ")\n",
        "base_model.trainable = False"
      ],
      "execution_count": null,
      "outputs": [
        {
          "output_type": "stream",
          "text": [
            "Downloading data from https://storage.googleapis.com/tensorflow/keras-applications/mobilenet_v2/mobilenet_v2_weights_tf_dim_ordering_tf_kernels_1.0_224_no_top.h5\n",
            "9412608/9406464 [==============================] - 0s 0us/step\n"
          ],
          "name": "stdout"
        }
      ]
    },
    {
      "cell_type": "code",
      "metadata": {
        "colab": {
          "base_uri": "https://localhost:8080/"
        },
        "id": "mzfzsOOqJVst",
        "outputId": "fbdfa5dd-80b3-4be8-8c1e-7377028cf7aa"
      },
      "source": [
        "#build model\n",
        "model = Sequential()\n",
        "model.add(base_model)\n",
        "model.add(tf.keras.layers.GlobalAveragePooling2D())\n",
        "model.add(tf.keras.layers.Dense(1))    \n",
        "model.add(Activation('sigmoid'))\n",
        "model.summary()\n",
        "model.compile(loss = 'binary_crossentropy', optimizer = 'adam', metrics = ['accuracy'])"
      ],
      "execution_count": null,
      "outputs": [
        {
          "output_type": "stream",
          "text": [
            "Model: \"sequential\"\n",
            "_________________________________________________________________\n",
            "Layer (type)                 Output Shape              Param #   \n",
            "=================================================================\n",
            "mobilenetv2_1.00_224 (Functi (None, 7, 7, 1280)        2257984   \n",
            "_________________________________________________________________\n",
            "global_average_pooling2d (Gl (None, 1280)              0         \n",
            "_________________________________________________________________\n",
            "dense_27 (Dense)             (None, 1)                 1281      \n",
            "_________________________________________________________________\n",
            "activation_94 (Activation)   (None, 1)                 0         \n",
            "=================================================================\n",
            "Total params: 2,259,265\n",
            "Trainable params: 1,281\n",
            "Non-trainable params: 2,257,984\n",
            "_________________________________________________________________\n"
          ],
          "name": "stdout"
        }
      ]
    },
    {
      "cell_type": "code",
      "metadata": {
        "colab": {
          "base_uri": "https://localhost:8080/"
        },
        "id": "e8YDFqZAJYvJ",
        "outputId": "51d5ef66-7e17-40d0-8ff7-2455d5acf453"
      },
      "source": [
        "#train model\n",
        "early_stop = EarlyStopping(monitor = 'val_loss', patience = 2)\n",
        "history4=model.fit(test_img, batch_size = 32, epochs = 30,validation_data = val_img)"
      ],
      "execution_count": null,
      "outputs": [
        {
          "output_type": "stream",
          "text": [
            "Epoch 1/30\n",
            "131/131 [==============================] - 59s 454ms/step - loss: 0.3615 - accuracy: 0.8411 - val_loss: 0.2297 - val_accuracy: 0.9204\n",
            "Epoch 2/30\n",
            "131/131 [==============================] - 58s 445ms/step - loss: 0.2238 - accuracy: 0.9101 - val_loss: 0.1912 - val_accuracy: 0.9310\n",
            "Epoch 3/30\n",
            "131/131 [==============================] - 60s 456ms/step - loss: 0.1830 - accuracy: 0.9319 - val_loss: 0.1767 - val_accuracy: 0.9291\n",
            "Epoch 4/30\n",
            "131/131 [==============================] - 60s 455ms/step - loss: 0.1725 - accuracy: 0.9310 - val_loss: 0.1570 - val_accuracy: 0.9453\n",
            "Epoch 5/30\n",
            "131/131 [==============================] - 59s 449ms/step - loss: 0.1585 - accuracy: 0.9406 - val_loss: 0.1682 - val_accuracy: 0.9425\n",
            "Epoch 6/30\n",
            "131/131 [==============================] - 58s 444ms/step - loss: 0.1558 - accuracy: 0.9413 - val_loss: 0.1543 - val_accuracy: 0.9444\n",
            "Epoch 7/30\n",
            "131/131 [==============================] - 58s 445ms/step - loss: 0.1605 - accuracy: 0.9329 - val_loss: 0.1395 - val_accuracy: 0.9501\n",
            "Epoch 8/30\n",
            "131/131 [==============================] - 59s 447ms/step - loss: 0.1440 - accuracy: 0.9427 - val_loss: 0.1283 - val_accuracy: 0.9540\n",
            "Epoch 9/30\n",
            "131/131 [==============================] - 58s 445ms/step - loss: 0.1408 - accuracy: 0.9437 - val_loss: 0.1508 - val_accuracy: 0.9501\n",
            "Epoch 10/30\n",
            "131/131 [==============================] - 58s 444ms/step - loss: 0.1339 - accuracy: 0.9485 - val_loss: 0.1229 - val_accuracy: 0.9597\n",
            "Epoch 11/30\n",
            "131/131 [==============================] - 58s 445ms/step - loss: 0.1271 - accuracy: 0.9521 - val_loss: 0.1182 - val_accuracy: 0.9645\n",
            "Epoch 12/30\n",
            "131/131 [==============================] - 58s 444ms/step - loss: 0.1350 - accuracy: 0.9451 - val_loss: 0.1117 - val_accuracy: 0.9578\n",
            "Epoch 13/30\n",
            "131/131 [==============================] - 59s 450ms/step - loss: 0.1263 - accuracy: 0.9506 - val_loss: 0.1181 - val_accuracy: 0.9636\n",
            "Epoch 14/30\n",
            "131/131 [==============================] - 58s 445ms/step - loss: 0.1197 - accuracy: 0.9504 - val_loss: 0.1320 - val_accuracy: 0.9453\n",
            "Epoch 15/30\n",
            "131/131 [==============================] - 59s 447ms/step - loss: 0.1220 - accuracy: 0.9557 - val_loss: 0.1302 - val_accuracy: 0.9569\n",
            "Epoch 16/30\n",
            "131/131 [==============================] - 59s 447ms/step - loss: 0.1156 - accuracy: 0.9559 - val_loss: 0.1316 - val_accuracy: 0.9492\n",
            "Epoch 17/30\n",
            "131/131 [==============================] - 58s 446ms/step - loss: 0.1194 - accuracy: 0.9535 - val_loss: 0.1201 - val_accuracy: 0.9655\n",
            "Epoch 18/30\n",
            "131/131 [==============================] - 59s 450ms/step - loss: 0.1205 - accuracy: 0.9526 - val_loss: 0.1142 - val_accuracy: 0.9607\n",
            "Epoch 19/30\n",
            "131/131 [==============================] - 58s 446ms/step - loss: 0.1275 - accuracy: 0.9502 - val_loss: 0.1074 - val_accuracy: 0.9674\n",
            "Epoch 20/30\n",
            "131/131 [==============================] - 58s 446ms/step - loss: 0.1154 - accuracy: 0.9547 - val_loss: 0.1191 - val_accuracy: 0.9588\n",
            "Epoch 21/30\n",
            "131/131 [==============================] - 58s 443ms/step - loss: 0.1156 - accuracy: 0.9576 - val_loss: 0.1123 - val_accuracy: 0.9521\n",
            "Epoch 22/30\n",
            "131/131 [==============================] - 58s 444ms/step - loss: 0.1097 - accuracy: 0.9585 - val_loss: 0.1153 - val_accuracy: 0.9569\n",
            "Epoch 23/30\n",
            "131/131 [==============================] - 58s 446ms/step - loss: 0.1112 - accuracy: 0.9540 - val_loss: 0.1095 - val_accuracy: 0.9607\n",
            "Epoch 24/30\n",
            "131/131 [==============================] - 59s 450ms/step - loss: 0.1101 - accuracy: 0.9602 - val_loss: 0.1201 - val_accuracy: 0.9569\n",
            "Epoch 25/30\n",
            "131/131 [==============================] - 59s 448ms/step - loss: 0.1054 - accuracy: 0.9619 - val_loss: 0.1048 - val_accuracy: 0.9578\n",
            "Epoch 26/30\n",
            "131/131 [==============================] - 59s 449ms/step - loss: 0.1098 - accuracy: 0.9576 - val_loss: 0.1208 - val_accuracy: 0.9616\n",
            "Epoch 27/30\n",
            "131/131 [==============================] - 59s 447ms/step - loss: 0.1007 - accuracy: 0.9619 - val_loss: 0.1088 - val_accuracy: 0.9559\n",
            "Epoch 28/30\n",
            "131/131 [==============================] - 59s 448ms/step - loss: 0.1143 - accuracy: 0.9564 - val_loss: 0.1318 - val_accuracy: 0.9559\n",
            "Epoch 29/30\n",
            "131/131 [==============================] - 59s 451ms/step - loss: 0.1057 - accuracy: 0.9629 - val_loss: 0.1214 - val_accuracy: 0.9549\n",
            "Epoch 30/30\n",
            "131/131 [==============================] - 59s 448ms/step - loss: 0.1039 - accuracy: 0.9585 - val_loss: 0.1176 - val_accuracy: 0.9578\n"
          ],
          "name": "stdout"
        }
      ]
    },
    {
      "cell_type": "code",
      "metadata": {
        "colab": {
          "base_uri": "https://localhost:8080/",
          "height": 545
        },
        "id": "fbeOmVLhm7Pw",
        "outputId": "8d211a99-64d9-4e34-f704-6014145ef649"
      },
      "source": [
        "acc4 = history4.history['accuracy']\n",
        "val_acc4 = history4.history['val_accuracy']\n",
        "\n",
        "loss4 = history4.history['loss']\n",
        "val_loss4 = history4.history['val_loss']\n",
        "epochs = range(len(acc4))\n",
        "\n",
        "plt.plot(epochs, acc4, 'r', label='Training accuracy')\n",
        "plt.plot(epochs, val_acc4, 'b', label='Validation accuracy')\n",
        "plt.title('Training and Testing accuracy')\n",
        "plt.legend()\n",
        "plt.show()\n",
        "\n",
        "\n",
        "\n",
        "plt.plot(epochs, loss4, 'r', label='Training Loss')\n",
        "plt.plot(epochs, val_loss4, 'b', label='Validation Loss')\n",
        "plt.title('Training and Testing loss')\n",
        "plt.legend()\n",
        "\n",
        "plt.show()"
      ],
      "execution_count": null,
      "outputs": [
        {
          "output_type": "display_data",
          "data": {
            "image/png": "[encoded data removed]",
            "text/plain": [
              "<Figure size 432x288 with 1 Axes>"
            ]
          },
          "metadata": {
            "tags": [],
            "needs_background": "light"
          }
        },
        {
          "output_type": "display_data",
          "data": {
            "image/png": "[encoded data removed]",
            "text/plain": [
              "<Figure size 432x288 with 1 Axes>"
            ]
          },
          "metadata": {
            "tags": [],
            "needs_background": "light"
          }
        }
      ]
    },
    {
      "cell_type": "code",
      "metadata": {
        "colab": {
          "base_uri": "https://localhost:8080/"
        },
        "id": "wLZd3MPYJepX",
        "outputId": "57aa147b-12a6-4c53-9a17-decc6e59d629"
      },
      "source": [
        "#save model\n",
        "model.save('pneumonia_cnn.model')"
      ],
      "execution_count": null,
      "outputs": [
        {
          "output_type": "stream",
          "text": [
            "WARNING:tensorflow:From /usr/local/lib/python3.6/dist-packages/tensorflow/python/training/tracking/tracking.py:111: Model.state_updates (from tensorflow.python.keras.engine.training) is deprecated and will be removed in a future version.\n",
            "Instructions for updating:\n",
            "This property should not be used in TensorFlow 2.0, as updates are applied automatically.\n",
            "WARNING:tensorflow:From /usr/local/lib/python3.6/dist-packages/tensorflow/python/training/tracking/tracking.py:111: Layer.updates (from tensorflow.python.keras.engine.base_layer) is deprecated and will be removed in a future version.\n",
            "Instructions for updating:\n",
            "This property should not be used in TensorFlow 2.0, as updates are applied automatically.\n",
            "INFO:tensorflow:Assets written to: pneumonia_cnn.model/assets\n"
          ],
          "name": "stdout"
        }
      ]
    },
    {
      "cell_type": "code",
      "metadata": {
        "id": "2Aa8TOb0JfST"
      },
      "source": [
        "#import pneumonia testng data\n",
        "img_path = '/content/drive/MyDrive/Dataset/chest_xray/test/PNEUMONIA'\n",
        "testing_data=[]\n",
        "image_import(img_path, 1, testing_data)"
      ],
      "execution_count": null,
      "outputs": []
    },
    {
      "cell_type": "code",
      "metadata": {
        "id": "IBlaxlSrJj67"
      },
      "source": [
        "#import normal lung testing data\n",
        "img_path = '/content/drive/MyDrive/Dataset/chest_xray/test/NORMAL'\n",
        "image_import(img_path,0, testing_data)"
      ],
      "execution_count": null,
      "outputs": []
    },
    {
      "cell_type": "code",
      "metadata": {
        "id": "pvgS14mYJ2fy"
      },
      "source": [
        "#shuffle training_data\n",
        "random.shuffle(testing_data)"
      ],
      "execution_count": null,
      "outputs": []
    },
    {
      "cell_type": "code",
      "metadata": {
        "id": "pRItWQX1J8a7"
      },
      "source": [
        "#seperate testing to XY\n",
        "test_features = []\n",
        "test_targets = []\n",
        "\n",
        "for f, t in testing_data:\n",
        "    test_features.append(f)\n",
        "    test_targets.append(t)\n",
        "\n",
        "test_features = np.array(test_features).reshape(-1, size, size, 3)\n",
        "test_targets = np.array(test_targets)   \n",
        "test_features = test_features/255"
      ],
      "execution_count": null,
      "outputs": []
    },
    {
      "cell_type": "code",
      "metadata": {
        "colab": {
          "base_uri": "https://localhost:8080/"
        },
        "id": "huZDL5JnKBkq",
        "outputId": "73b8f860-6ad8-4c55-af2c-32638f944142"
      },
      "source": [
        "#confusion matrix calculation\n",
        "false_negative = 0\n",
        "false_positive = 0\n",
        "true_negative = 0\n",
        "true_positive = 0\n",
        "\n",
        "result = model.predict_classes(test_features)\n",
        "accuracy = model.evaluate(test_features,test_targets)[1]\n",
        "\n",
        "for i in range(len(test_features)):\n",
        "    if test_targets[i] == 1:\n",
        "        if result[i] == 1:\n",
        "            true_positive += 1\n",
        "        elif result[i] == 0: \n",
        "            false_negative += 1\n",
        "        else:\n",
        "            print('error class not found')\n",
        "    if test_targets[i] == 0:\n",
        "        if result[i] == 1:\n",
        "            false_positive += 1\n",
        "        elif result[i] == 0: \n",
        "            true_negative += 1\n",
        "        else:\n",
        "            print('error class not found')\n",
        "            "
      ],
      "execution_count": null,
      "outputs": [
        {
          "output_type": "stream",
          "text": [
            "WARNING:tensorflow:From <ipython-input-19-6bc29567eeb9>:7: Sequential.predict_classes (from tensorflow.python.keras.engine.sequential) is deprecated and will be removed after 2021-01-01.\n",
            "Instructions for updating:\n",
            "Please use instead:* `np.argmax(model.predict(x), axis=-1)`,   if your model does multi-class classification   (e.g. if it uses a `softmax` last-layer activation).* `(model.predict(x) > 0.5).astype(\"int32\")`,   if your model does binary classification   (e.g. if it uses a `sigmoid` last-layer activation).\n",
            "20/20 [==============================] - 1s 38ms/step - loss: 0.2176 - accuracy: 0.9071\n"
          ],
          "name": "stdout"
        }
      ]
    },
    {
      "cell_type": "code",
      "metadata": {
        "colab": {
          "base_uri": "https://localhost:8080/",
          "height": 173
        },
        "id": "EaZrqYRJKEjS",
        "outputId": "22c8e627-2267-4f4d-a4df-a2da54111413"
      },
      "source": [
        "#create confusion matrix data\n",
        "test_result = [false_negative,\n",
        "               true_negative,\n",
        "              true_positive,\n",
        "               false_positive]\n",
        "adjusted_test_result = np.array(test_result)/(len(test_features))\n",
        "df_test_result = pd.DataFrame(np.array(['false_negative','true_negative','true_positive','false_positive']),columns=['results'])\n",
        "df_test_result['percent'] = adjusted_test_result\n",
        "df_test_result"
      ],
      "execution_count": null,
      "outputs": [
        {
          "output_type": "execute_result",
          "data": {
            "text/html": [
              "<div>\n",
              "<style scoped>\n",
              "    .dataframe tbody tr th:only-of-type {\n",
              "        vertical-align: middle;\n",
              "    }\n",
              "\n",
              "    .dataframe tbody tr th {\n",
              "        vertical-align: top;\n",
              "    }\n",
              "\n",
              "    .dataframe thead th {\n",
              "        text-align: right;\n",
              "    }\n",
              "</style>\n",
              "<table border=\"1\" class=\"dataframe\">\n",
              "  <thead>\n",
              "    <tr style=\"text-align: right;\">\n",
              "      <th></th>\n",
              "      <th>results</th>\n",
              "      <th>percent</th>\n",
              "    </tr>\n",
              "  </thead>\n",
              "  <tbody>\n",
              "    <tr>\n",
              "      <th>0</th>\n",
              "      <td>false_negative</td>\n",
              "      <td>0.028846</td>\n",
              "    </tr>\n",
              "    <tr>\n",
              "      <th>1</th>\n",
              "      <td>true_negative</td>\n",
              "      <td>0.310897</td>\n",
              "    </tr>\n",
              "    <tr>\n",
              "      <th>2</th>\n",
              "      <td>true_positive</td>\n",
              "      <td>0.596154</td>\n",
              "    </tr>\n",
              "    <tr>\n",
              "      <th>3</th>\n",
              "      <td>false_positive</td>\n",
              "      <td>0.064103</td>\n",
              "    </tr>\n",
              "  </tbody>\n",
              "</table>\n",
              "</div>"
            ],
            "text/plain": [
              "          results   percent\n",
              "0  false_negative  0.028846\n",
              "1   true_negative  0.310897\n",
              "2   true_positive  0.596154\n",
              "3  false_positive  0.064103"
            ]
          },
          "metadata": {
            "tags": []
          },
          "execution_count": 20
        }
      ]
    },
    {
      "cell_type": "code",
      "metadata": {
        "colab": {
          "base_uri": "https://localhost:8080/",
          "height": 295
        },
        "id": "4k_066EOKHQH",
        "outputId": "221547ee-1637-4cf6-9491-aee951a29f46"
      },
      "source": [
        "#confusion matrix plot \n",
        "fig,ax = plt.subplots()\n",
        "heatmap = ax.pcolor((df_test_result['percent'].to_numpy().reshape(2,2)),cmap='Blues')\n",
        "data = df_test_result['percent'].to_numpy().reshape(2,2)* 100\n",
        "for y in range(data.shape[0]):\n",
        "    for x in range(data.shape[1]):\n",
        "        ax.text(x + 0.5, y + 0.5, '%.2f' % data[y, x],\n",
        "                 horizontalalignment='center',\n",
        "                 verticalalignment='center',\n",
        "                 )\n",
        "ax.set_xticks([0.5,1.5])\n",
        "ax.set_yticks([0.5,1.5])\n",
        "ax.set_xticklabels(['Positive','Negative'])\n",
        "ax.set_yticklabels(['Negative','Positive'])\n",
        "plt.xlabel('actual value')\n",
        "plt.ylabel('predicted value')\n",
        "plt.title('Normalized pneumonia CNN confusion matrix with %.2f' %(accuracy*100)+ '% accuracy')\n",
        "plt.savefig('90_87_model.png')\n",
        "plt.show()\n"
      ],
      "execution_count": null,
      "outputs": [
        {
          "output_type": "display_data",
          "data": {
            "image/png": "[encoded data removed]",
            "text/plain": [
              "<Figure size 432x288 with 1 Axes>"
            ]
          },
          "metadata": {
            "tags": [],
            "needs_background": "light"
          }
        }
      ]
    }
  ]
}