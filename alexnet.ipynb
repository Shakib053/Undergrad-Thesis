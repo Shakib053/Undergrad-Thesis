{
  "nbformat": 4,
  "nbformat_minor": 0,
  "metadata": {
    "colab": {
      "name": "alexnet.ipynb",
      "provenance": [],
      "collapsed_sections": []
    },
    "kernelspec": {
      "name": "python3",
      "display_name": "Python 3"
    },
    "accelerator": "GPU",
    "widgets": {
      "application/vnd.jupyter.widget-state+json": {
        "c77fe77c52cf43e7b6828ae9af5061fb": {
          "model_module": "@jupyter-widgets/controls",
          "model_name": "HBoxModel",
          "state": {
            "_view_name": "HBoxView",
            "_dom_classes": [],
            "_model_name": "HBoxModel",
            "_view_module": "@jupyter-widgets/controls",
            "_model_module_version": "1.5.0",
            "_view_count": null,
            "_view_module_version": "1.5.0",
            "box_style": "",
            "layout": "IPY_MODEL_bdd80dea1f434e1db9c30ba8cb0256e1",
            "_model_module": "@jupyter-widgets/controls",
            "children": [
              "IPY_MODEL_3f3c185f54f44841803369cc22becf25",
              "IPY_MODEL_f7b2500b47cf48c6aa3b136dcf90e360"
            ]
          }
        },
        "bdd80dea1f434e1db9c30ba8cb0256e1": {
          "model_module": "@jupyter-widgets/base",
          "model_name": "LayoutModel",
          "state": {
            "_view_name": "LayoutView",
            "grid_template_rows": null,
            "right": null,
            "justify_content": null,
            "_view_module": "@jupyter-widgets/base",
            "overflow": null,
            "_model_module_version": "1.2.0",
            "_view_count": null,
            "flex_flow": null,
            "width": null,
            "min_width": null,
            "border": null,
            "align_items": null,
            "bottom": null,
            "_model_module": "@jupyter-widgets/base",
            "top": null,
            "grid_column": null,
            "overflow_y": null,
            "overflow_x": null,
            "grid_auto_flow": null,
            "grid_area": null,
            "grid_template_columns": null,
            "flex": null,
            "_model_name": "LayoutModel",
            "justify_items": null,
            "grid_row": null,
            "max_height": null,
            "align_content": null,
            "visibility": null,
            "align_self": null,
            "height": null,
            "min_height": null,
            "padding": null,
            "grid_auto_rows": null,
            "grid_gap": null,
            "max_width": null,
            "order": null,
            "_view_module_version": "1.2.0",
            "grid_template_areas": null,
            "object_position": null,
            "object_fit": null,
            "grid_auto_columns": null,
            "margin": null,
            "display": null,
            "left": null
          }
        },
        "3f3c185f54f44841803369cc22becf25": {
          "model_module": "@jupyter-widgets/controls",
          "model_name": "FloatProgressModel",
          "state": {
            "_view_name": "ProgressView",
            "style": "IPY_MODEL_b9a9908565fb468a9934f76dcd477f0c",
            "_dom_classes": [],
            "description": "100%",
            "_model_name": "FloatProgressModel",
            "bar_style": "success",
            "max": 244418560,
            "_view_module": "@jupyter-widgets/controls",
            "_model_module_version": "1.5.0",
            "value": 244418560,
            "_view_count": null,
            "_view_module_version": "1.5.0",
            "orientation": "horizontal",
            "min": 0,
            "description_tooltip": null,
            "_model_module": "@jupyter-widgets/controls",
            "layout": "IPY_MODEL_02de1fbe975f467fb9066b1bf584c868"
          }
        },
        "f7b2500b47cf48c6aa3b136dcf90e360": {
          "model_module": "@jupyter-widgets/controls",
          "model_name": "HTMLModel",
          "state": {
            "_view_name": "HTMLView",
            "style": "IPY_MODEL_5fd8114230d34d78b54ef610969b0aab",
            "_dom_classes": [],
            "description": "",
            "_model_name": "HTMLModel",
            "placeholder": "​",
            "_view_module": "@jupyter-widgets/controls",
            "_model_module_version": "1.5.0",
            "value": " 233M/233M [03:05&lt;00:00, 1.32MB/s]",
            "_view_count": null,
            "_view_module_version": "1.5.0",
            "description_tooltip": null,
            "_model_module": "@jupyter-widgets/controls",
            "layout": "IPY_MODEL_e2e145260ae7410b88a542a5d5ea7680"
          }
        },
        "b9a9908565fb468a9934f76dcd477f0c": {
          "model_module": "@jupyter-widgets/controls",
          "model_name": "ProgressStyleModel",
          "state": {
            "_view_name": "StyleView",
            "_model_name": "ProgressStyleModel",
            "description_width": "initial",
            "_view_module": "@jupyter-widgets/base",
            "_model_module_version": "1.5.0",
            "_view_count": null,
            "_view_module_version": "1.2.0",
            "bar_color": null,
            "_model_module": "@jupyter-widgets/controls"
          }
        },
        "02de1fbe975f467fb9066b1bf584c868": {
          "model_module": "@jupyter-widgets/base",
          "model_name": "LayoutModel",
          "state": {
            "_view_name": "LayoutView",
            "grid_template_rows": null,
            "right": null,
            "justify_content": null,
            "_view_module": "@jupyter-widgets/base",
            "overflow": null,
            "_model_module_version": "1.2.0",
            "_view_count": null,
            "flex_flow": null,
            "width": null,
            "min_width": null,
            "border": null,
            "align_items": null,
            "bottom": null,
            "_model_module": "@jupyter-widgets/base",
            "top": null,
            "grid_column": null,
            "overflow_y": null,
            "overflow_x": null,
            "grid_auto_flow": null,
            "grid_area": null,
            "grid_template_columns": null,
            "flex": null,
            "_model_name": "LayoutModel",
            "justify_items": null,
            "grid_row": null,
            "max_height": null,
            "align_content": null,
            "visibility": null,
            "align_self": null,
            "height": null,
            "min_height": null,
            "padding": null,
            "grid_auto_rows": null,
            "grid_gap": null,
            "max_width": null,
            "order": null,
            "_view_module_version": "1.2.0",
            "grid_template_areas": null,
            "object_position": null,
            "object_fit": null,
            "grid_auto_columns": null,
            "margin": null,
            "display": null,
            "left": null
          }
        },
        "5fd8114230d34d78b54ef610969b0aab": {
          "model_module": "@jupyter-widgets/controls",
          "model_name": "DescriptionStyleModel",
          "state": {
            "_view_name": "StyleView",
            "_model_name": "DescriptionStyleModel",
            "description_width": "",
            "_view_module": "@jupyter-widgets/base",
            "_model_module_version": "1.5.0",
            "_view_count": null,
            "_view_module_version": "1.2.0",
            "_model_module": "@jupyter-widgets/controls"
          }
        },
        "e2e145260ae7410b88a542a5d5ea7680": {
          "model_module": "@jupyter-widgets/base",
          "model_name": "LayoutModel",
          "state": {
            "_view_name": "LayoutView",
            "grid_template_rows": null,
            "right": null,
            "justify_content": null,
            "_view_module": "@jupyter-widgets/base",
            "overflow": null,
            "_model_module_version": "1.2.0",
            "_view_count": null,
            "flex_flow": null,
            "width": null,
            "min_width": null,
            "border": null,
            "align_items": null,
            "bottom": null,
            "_model_module": "@jupyter-widgets/base",
            "top": null,
            "grid_column": null,
            "overflow_y": null,
            "overflow_x": null,
            "grid_auto_flow": null,
            "grid_area": null,
            "grid_template_columns": null,
            "flex": null,
            "_model_name": "LayoutModel",
            "justify_items": null,
            "grid_row": null,
            "max_height": null,
            "align_content": null,
            "visibility": null,
            "align_self": null,
            "height": null,
            "min_height": null,
            "padding": null,
            "grid_auto_rows": null,
            "grid_gap": null,
            "max_width": null,
            "order": null,
            "_view_module_version": "1.2.0",
            "grid_template_areas": null,
            "object_position": null,
            "object_fit": null,
            "grid_auto_columns": null,
            "margin": null,
            "display": null,
            "left": null
          }
        }
      }
    }
  },
  "cells": [
    {
      "cell_type": "code",
      "metadata": {
        "colab": {
          "base_uri": "https://localhost:8080/"
        },
        "id": "ctBkhFskrrS8",
        "outputId": "061bafc2-cf8f-46fe-d653-60c805f98891"
      },
      "source": [
        "from google.colab import drive\n",
        "drive.mount('/content/drive')"
      ],
      "execution_count": null,
      "outputs": [
        {
          "output_type": "stream",
          "text": [
            "Mounted at /content/drive\n"
          ],
          "name": "stdout"
        }
      ]
    },
    {
      "cell_type": "code",
      "metadata": {
        "id": "hFJuZYkSr-iS"
      },
      "source": [
        "\n",
        "import torch, torchvision\n",
        "from torchvision import datasets, models, transforms\n",
        "import torch.nn as nn\n",
        "import torch.optim as optim\n",
        "from torch.utils.data import DataLoader\n",
        "import time\n",
        "from torchsummary import summary\n",
        "import numpy as np\n",
        "import matplotlib.pyplot as plt\n",
        "import os\n",
        "from PIL import Image\n",
        "from torch.optim import lr_scheduler\n",
        "import copy\n",
        "import shutil  \n",
        "import re"
      ],
      "execution_count": null,
      "outputs": []
    },
    {
      "cell_type": "code",
      "metadata": {
        "id": "aA_Sal7tsK1S"
      },
      "source": [
        "\n",
        "\n",
        "# Applying Transforms to the Data\n",
        "image_transforms = { \n",
        "    'train': transforms.Compose([\n",
        "        transforms.RandomResizedCrop(size=224, scale=(0.8, 1.0)),\n",
        "        transforms.RandomRotation(degrees=15),\n",
        "        transforms.RandomHorizontalFlip(),\n",
        "        transforms.CenterCrop(size=224),\n",
        "        transforms.ToTensor(),\n",
        "        transforms.Normalize([0.485, 0.456, 0.406],\n",
        "                             [0.229, 0.224, 0.225])\n",
        "    ]),\n",
        "    'valid': transforms.Compose([\n",
        "        transforms.Resize(size=224),\n",
        "        transforms.CenterCrop(size=224),\n",
        "        transforms.RandomRotation(degrees=15),\n",
        "        transforms.RandomHorizontalFlip(),\n",
        "        transforms.ToTensor(),\n",
        "        transforms.Normalize([0.485, 0.456, 0.406],\n",
        "                             [0.229, 0.224, 0.225])\n",
        "    ])\n",
        "}\n",
        "\n"
      ],
      "execution_count": null,
      "outputs": []
    },
    {
      "cell_type": "code",
      "metadata": {
        "colab": {
          "base_uri": "https://localhost:8080/"
        },
        "id": "Kw4VLKuOsQr1",
        "outputId": "77dcfbc3-2568-49a6-8ce3-3b74d2e40409"
      },
      "source": [
        "\n",
        "\n",
        "# Load the Data\n",
        "\n",
        "# Set train and valid directory paths\n",
        "\n",
        "dataset = '/content/drive/MyDrive/Dataset/chest_xray'\n",
        "\n",
        "train_directory = os.path.join(dataset, 'train')\n",
        "valid_directory = os.path.join(dataset, 'test')\n",
        "\n",
        "# Batch size\n",
        "bs = 32\n",
        "\n",
        "# Number of classes\n",
        "num_classes = len(os.listdir(valid_directory))\n",
        "print(num_classes)\n",
        "\n",
        "# Load Data from folders\n",
        "data = {\n",
        "    'train': datasets.ImageFolder(root=train_directory, transform=image_transforms['train']),\n",
        "    'val': datasets.ImageFolder(root=valid_directory, transform=image_transforms['valid'])\n",
        "}\n",
        "\n",
        "# Get a mapping of the indices to the class names, in order to see the output classes of the test images.\n",
        "idx_to_class = {v: k for k, v in data['train'].class_to_idx.items()}\n",
        "print(idx_to_class)\n",
        "\n",
        "# Size of Data, to be used for calculating Average Loss and Accuracy\n",
        "train_data_size = len(data['train'])\n",
        "valid_data_size = len(data['val'])\n",
        "\n",
        "# Create iterators for the Data loaded using DataLoader module\n",
        "train_data_loader = DataLoader(data['train'], batch_size=bs, shuffle=True)\n",
        "valid_data_loader = DataLoader(data['val'], batch_size=bs, shuffle=True)\n",
        "\n"
      ],
      "execution_count": null,
      "outputs": [
        {
          "output_type": "stream",
          "text": [
            "3\n",
            "{0: 'NORMAL', 1: 'PNEUMONIA'}\n"
          ],
          "name": "stdout"
        }
      ]
    },
    {
      "cell_type": "code",
      "metadata": {
        "colab": {
          "base_uri": "https://localhost:8080/"
        },
        "id": "WaBXtnwJsrvK",
        "outputId": "73e9e09f-aacb-4640-f478-5b6d6186ccdc"
      },
      "source": [
        "train_data_size, valid_data_size"
      ],
      "execution_count": null,
      "outputs": [
        {
          "output_type": "execute_result",
          "data": {
            "text/plain": [
              "(5216, 624)"
            ]
          },
          "metadata": {
            "tags": []
          },
          "execution_count": 5
        }
      ]
    },
    {
      "cell_type": "code",
      "metadata": {
        "colab": {
          "base_uri": "https://localhost:8080/",
          "height": 105,
          "referenced_widgets": [
            "c77fe77c52cf43e7b6828ae9af5061fb",
            "bdd80dea1f434e1db9c30ba8cb0256e1",
            "3f3c185f54f44841803369cc22becf25",
            "f7b2500b47cf48c6aa3b136dcf90e360",
            "b9a9908565fb468a9934f76dcd477f0c",
            "02de1fbe975f467fb9066b1bf584c868",
            "5fd8114230d34d78b54ef610969b0aab",
            "e2e145260ae7410b88a542a5d5ea7680"
          ]
        },
        "id": "GmkyqdD3swZb",
        "outputId": "fcdb5375-6082-4b40-de9b-0eaddd75e317"
      },
      "source": [
        "# Load pretrained ResNet18 Model\n",
        "alexnet = models.alexnet(pretrained=True)\n",
        "alexnet = alexnet.to('cuda:0')"
      ],
      "execution_count": null,
      "outputs": [
        {
          "output_type": "stream",
          "text": [
            "Downloading: \"https://download.pytorch.org/models/alexnet-owt-4df8aa71.pth\" to /root/.cache/torch/hub/checkpoints/alexnet-owt-4df8aa71.pth\n"
          ],
          "name": "stderr"
        },
        {
          "output_type": "display_data",
          "data": {
            "application/vnd.jupyter.widget-view+json": {
              "model_id": "c77fe77c52cf43e7b6828ae9af5061fb",
              "version_minor": 0,
              "version_major": 2
            },
            "text/plain": [
              "HBox(children=(FloatProgress(value=0.0, max=244418560.0), HTML(value='')))"
            ]
          },
          "metadata": {
            "tags": []
          }
        },
        {
          "output_type": "stream",
          "text": [
            "\n"
          ],
          "name": "stdout"
        }
      ]
    },
    {
      "cell_type": "code",
      "metadata": {
        "id": "4P0b7Awfs31e"
      },
      "source": [
        "\n",
        "\n",
        "# Freeze model parameters\n",
        "for param in alexnet.parameters():\n",
        "    param.requires_grad = False\n",
        "\n"
      ],
      "execution_count": null,
      "outputs": []
    },
    {
      "cell_type": "code",
      "metadata": {
        "id": "aHXnXyWWs8A9"
      },
      "source": [
        "num_ftrs = alexnet.classifier[6].in_features"
      ],
      "execution_count": null,
      "outputs": []
    },
    {
      "cell_type": "code",
      "metadata": {
        "id": "pJAuQfvFs_e1"
      },
      "source": [
        "for param in alexnet.classifier[6].parameters():\n",
        "  param.requires_grad = True\n",
        "\n",
        "alexnet = alexnet.to('cuda:0')"
      ],
      "execution_count": null,
      "outputs": []
    },
    {
      "cell_type": "code",
      "metadata": {
        "id": "6fRFDW2EtC3R"
      },
      "source": [
        "# Define Optimizer and Loss Function\n",
        "loss_func = nn.CrossEntropyLoss()\n",
        "# optimizer = optim.Adam(resnet18.parameters())"
      ],
      "execution_count": null,
      "outputs": []
    },
    {
      "cell_type": "code",
      "metadata": {
        "id": "H1BcDcEetGeP"
      },
      "source": [
        "\n",
        "\n",
        "optimizer = torch.optim.SGD(filter(lambda x: x.requires_grad, alexnet.parameters()), lr=0.001, momentum=0.9)\n",
        "\n"
      ],
      "execution_count": null,
      "outputs": []
    },
    {
      "cell_type": "code",
      "metadata": {
        "id": "PO5RTGhWtM2J"
      },
      "source": [
        "def train_and_validate(model, loss_criterion, optimizer, epochs=25):\n",
        "    '''\n",
        "    Function to train and validate\n",
        "    Parameters\n",
        "        :param model: Model to train and validate\n",
        "        :param loss_criterion: Loss Criterion to minimize\n",
        "        :param optimizer: Optimizer for computing gradients\n",
        "        :param epochs: Number of epochs (default=25)\n",
        "  \n",
        "    Returns\n",
        "        model: Trained Model with best validation accuracy\n",
        "        history: (dict object): Having training loss, accuracy and validation loss, accuracy\n",
        "    '''\n",
        "    \n",
        "    start = time.time()\n",
        "    history = []\n",
        "    best_acc = 0.0\n",
        "\n",
        "    for epoch in range(epochs):\n",
        "        epoch_start = time.time()\n",
        "        print(\"Epoch: {}/{}\".format(epoch+1, epochs))\n",
        "        \n",
        "        # Set to training mode\n",
        "        model.train()\n",
        "        \n",
        "        # Loss and Accuracy within the epoch\n",
        "        train_loss = 0.0\n",
        "        train_acc = 0.0\n",
        "        \n",
        "        valid_loss = 0.0\n",
        "        valid_acc = 0.0\n",
        "        \n",
        "        for i, (inputs, labels) in enumerate(train_data_loader):\n",
        "\n",
        "            inputs = inputs.to(device)\n",
        "            labels = labels.to(device)\n",
        "            \n",
        "            # Clean existing gradients\n",
        "            optimizer.zero_grad()\n",
        "            \n",
        "            # Forward pass - compute outputs on input data using the model\n",
        "            outputs = model(inputs)\n",
        "            \n",
        "            # Compute loss\n",
        "            loss = loss_criterion(outputs, labels)\n",
        "            \n",
        "            # Backpropagate the gradients\n",
        "            loss.backward()\n",
        "            \n",
        "            # Update the parameters\n",
        "            optimizer.step()\n",
        "            \n",
        "            # Compute the total loss for the batch and add it to train_loss\n",
        "            train_loss += loss.item() * inputs.size(0)\n",
        "            \n",
        "            # Compute the accuracy\n",
        "            ret, predictions = torch.max(outputs.data, 1)\n",
        "            correct_counts = predictions.eq(labels.data.view_as(predictions))\n",
        "            \n",
        "            # Convert correct_counts to float and then compute the mean\n",
        "            acc = torch.mean(correct_counts.type(torch.FloatTensor))\n",
        "            \n",
        "            # Compute total accuracy in the whole batch and add to train_acc\n",
        "            train_acc += acc.item() * inputs.size(0)\n",
        "            \n",
        "            #print(\"Batch number: {:03d}, Training: Loss: {:.4f}, Accuracy: {:.4f}\".format(i, loss.item(), acc.item()))\n",
        "\n",
        "            \n",
        "        # Validation - No gradient tracking needed\n",
        "        with torch.no_grad():\n",
        "\n",
        "            # Set to evaluation mode\n",
        "            model.eval()\n",
        "\n",
        "            # Validation loop\n",
        "            for j, (inputs, labels) in enumerate(valid_data_loader):\n",
        "                inputs = inputs.to(device)\n",
        "                labels = labels.to(device)\n",
        "\n",
        "                # Forward pass - compute outputs on input data using the model\n",
        "                outputs = model(inputs)\n",
        "\n",
        "                # Compute loss\n",
        "                loss = loss_criterion(outputs, labels)\n",
        "\n",
        "                # Compute the total loss for the batch and add it to valid_loss\n",
        "                valid_loss += loss.item() * inputs.size(0)\n",
        "\n",
        "                # Calculate validation accuracy\n",
        "                ret, predictions = torch.max(outputs.data, 1)\n",
        "                correct_counts = predictions.eq(labels.data.view_as(predictions))\n",
        "\n",
        "                # Convert correct_counts to float and then compute the mean\n",
        "                acc = torch.mean(correct_counts.type(torch.FloatTensor))\n",
        "\n",
        "                # Compute total accuracy in the whole batch and add to valid_acc\n",
        "                valid_acc += acc.item() * inputs.size(0)\n",
        "\n",
        "                #print(\"Validation Batch number: {:03d}, Validation: Loss: {:.4f}, Accuracy: {:.4f}\".format(j, loss.item(), acc.item()))\n",
        "            \n",
        "        # Find average training loss and training accuracy\n",
        "        avg_train_loss = train_loss/train_data_size \n",
        "        avg_train_acc = train_acc/train_data_size\n",
        "\n",
        "        # Find average training loss and training accuracy\n",
        "        avg_valid_loss = valid_loss/valid_data_size \n",
        "        avg_valid_acc = valid_acc/valid_data_size\n",
        "\n",
        "        history.append([avg_train_loss, avg_valid_loss, avg_train_acc, avg_valid_acc])\n",
        "                \n",
        "        epoch_end = time.time()\n",
        "    \n",
        "        print(\"Epoch : {:03d}, Training: Loss: {:.4f}, Accuracy: {:.4f}%, \\n\\t\\tValidation : Loss : {:.4f}, Accuracy: {:.4f}%, Time: {:.4f}s\".format(epoch, avg_train_loss, avg_train_acc*100, avg_valid_loss, avg_valid_acc*100, epoch_end-epoch_start))\n",
        "        \n",
        "        # Save if the model has best accuracy till now\n",
        "        torch.save(model, dataset+'_model_'+str(epoch)+'.pt')\n",
        "            \n",
        "    return model, history"
      ],
      "execution_count": null,
      "outputs": []
    },
    {
      "cell_type": "code",
      "metadata": {
        "colab": {
          "base_uri": "https://localhost:8080/"
        },
        "id": "2o6qLWZwtRgp",
        "outputId": "358ac8f4-a307-43ae-fc89-33ba30124a50"
      },
      "source": [
        "\n",
        "\n",
        "device = torch.device(\"cuda:0\" if torch.cuda.is_available() else \"cpu\")\n",
        "\n",
        "# Train the model\n",
        "num_epochs = 30\n",
        "trained_model, history = train_and_validate(alexnet, loss_func, optimizer, num_epochs)\n",
        "\n",
        "torch.save(history, dataset+'_history.pt')\n",
        "\n"
      ],
      "execution_count": null,
      "outputs": [
        {
          "output_type": "stream",
          "text": [
            "Epoch: 1/30\n",
            "Epoch : 000, Training: Loss: 0.5939, Accuracy: 84.7584%, \n",
            "\t\tValidation : Loss : 0.5596, Accuracy: 82.0513%, Time: 1677.9376s\n",
            "Epoch: 2/30\n",
            "Epoch : 001, Training: Loss: 0.2693, Accuracy: 89.9156%, \n",
            "\t\tValidation : Loss : 0.8336, Accuracy: 79.9679%, Time: 111.5680s\n",
            "Epoch: 3/30\n",
            "Epoch : 002, Training: Loss: 0.2994, Accuracy: 88.9571%, \n",
            "\t\tValidation : Loss : 0.5124, Accuracy: 84.6154%, Time: 113.5092s\n",
            "Epoch: 4/30\n",
            "Epoch : 003, Training: Loss: 0.3672, Accuracy: 88.4778%, \n",
            "\t\tValidation : Loss : 0.5485, Accuracy: 87.1795%, Time: 112.5868s\n",
            "Epoch: 5/30\n",
            "Epoch : 004, Training: Loss: 0.3197, Accuracy: 89.7239%, \n",
            "\t\tValidation : Loss : 0.6562, Accuracy: 83.8141%, Time: 114.0131s\n",
            "Epoch: 6/30\n",
            "Epoch : 005, Training: Loss: 0.2871, Accuracy: 89.9923%, \n",
            "\t\tValidation : Loss : 1.0930, Accuracy: 78.3654%, Time: 114.0113s\n",
            "Epoch: 7/30\n",
            "Epoch : 006, Training: Loss: 0.2964, Accuracy: 90.0115%, \n",
            "\t\tValidation : Loss : 1.0473, Accuracy: 79.4872%, Time: 113.0141s\n",
            "Epoch: 8/30\n",
            "Epoch : 007, Training: Loss: 0.2596, Accuracy: 91.0084%, \n",
            "\t\tValidation : Loss : 0.9874, Accuracy: 77.8846%, Time: 113.3590s\n",
            "Epoch: 9/30\n",
            "Epoch : 008, Training: Loss: 0.2618, Accuracy: 90.7017%, \n",
            "\t\tValidation : Loss : 0.5655, Accuracy: 83.1731%, Time: 114.2320s\n",
            "Epoch: 10/30\n",
            "Epoch : 009, Training: Loss: 0.2808, Accuracy: 90.2799%, \n",
            "\t\tValidation : Loss : 1.2221, Accuracy: 71.7949%, Time: 115.0610s\n",
            "Epoch: 11/30\n",
            "Epoch : 010, Training: Loss: 0.2393, Accuracy: 91.1043%, \n",
            "\t\tValidation : Loss : 0.6029, Accuracy: 83.8141%, Time: 115.2515s\n",
            "Epoch: 12/30\n",
            "Epoch : 011, Training: Loss: 0.2471, Accuracy: 91.0660%, \n",
            "\t\tValidation : Loss : 0.7036, Accuracy: 83.0128%, Time: 114.4805s\n",
            "Epoch: 13/30\n",
            "Epoch : 012, Training: Loss: 0.2648, Accuracy: 90.6633%, \n",
            "\t\tValidation : Loss : 0.4827, Accuracy: 86.5385%, Time: 114.9267s\n",
            "Epoch: 14/30\n",
            "Epoch : 013, Training: Loss: 0.2968, Accuracy: 90.6250%, \n",
            "\t\tValidation : Loss : 0.7575, Accuracy: 81.8910%, Time: 117.3975s\n",
            "Epoch: 15/30\n",
            "Epoch : 014, Training: Loss: 0.2537, Accuracy: 91.0660%, \n",
            "\t\tValidation : Loss : 1.0463, Accuracy: 76.6026%, Time: 117.8589s\n",
            "Epoch: 16/30\n",
            "Epoch : 015, Training: Loss: 0.2613, Accuracy: 91.3919%, \n",
            "\t\tValidation : Loss : 0.9761, Accuracy: 78.3654%, Time: 115.2719s\n",
            "Epoch: 17/30\n",
            "Epoch : 016, Training: Loss: 0.2695, Accuracy: 90.4333%, \n",
            "\t\tValidation : Loss : 0.7530, Accuracy: 81.2500%, Time: 117.6038s\n",
            "Epoch: 18/30\n",
            "Epoch : 017, Training: Loss: 0.2275, Accuracy: 91.3919%, \n",
            "\t\tValidation : Loss : 0.4517, Accuracy: 85.7372%, Time: 117.3180s\n",
            "Epoch: 19/30\n",
            "Epoch : 018, Training: Loss: 0.2548, Accuracy: 90.9509%, \n",
            "\t\tValidation : Loss : 0.4884, Accuracy: 85.7372%, Time: 117.0735s\n",
            "Epoch: 20/30\n",
            "Epoch : 019, Training: Loss: 0.2534, Accuracy: 90.7784%, \n",
            "\t\tValidation : Loss : 0.5570, Accuracy: 84.2949%, Time: 115.9371s\n",
            "Epoch: 21/30\n",
            "Epoch : 020, Training: Loss: 0.2631, Accuracy: 90.5483%, \n",
            "\t\tValidation : Loss : 0.7296, Accuracy: 81.8910%, Time: 115.7948s\n",
            "Epoch: 22/30\n",
            "Epoch : 021, Training: Loss: 0.3037, Accuracy: 89.8581%, \n",
            "\t\tValidation : Loss : 0.7264, Accuracy: 85.0962%, Time: 116.5886s\n",
            "Epoch: 23/30\n",
            "Epoch : 022, Training: Loss: 0.2579, Accuracy: 91.1618%, \n",
            "\t\tValidation : Loss : 0.9721, Accuracy: 78.2051%, Time: 115.9509s\n",
            "Epoch: 24/30\n",
            "Epoch : 023, Training: Loss: 0.2291, Accuracy: 91.5452%, \n",
            "\t\tValidation : Loss : 0.8624, Accuracy: 79.4872%, Time: 116.1238s\n",
            "Epoch: 25/30\n",
            "Epoch : 024, Training: Loss: 0.2506, Accuracy: 91.0084%, \n",
            "\t\tValidation : Loss : 0.4975, Accuracy: 84.4551%, Time: 114.1232s\n",
            "Epoch: 26/30\n",
            "Epoch : 025, Training: Loss: 0.2564, Accuracy: 90.7209%, \n",
            "\t\tValidation : Loss : 0.6075, Accuracy: 84.9359%, Time: 114.0355s\n",
            "Epoch: 27/30\n",
            "Epoch : 026, Training: Loss: 0.2225, Accuracy: 91.8328%, \n",
            "\t\tValidation : Loss : 0.8271, Accuracy: 79.9679%, Time: 114.2092s\n",
            "Epoch: 28/30\n",
            "Epoch : 027, Training: Loss: 0.2676, Accuracy: 90.7975%, \n",
            "\t\tValidation : Loss : 0.4755, Accuracy: 85.4167%, Time: 110.5995s\n",
            "Epoch: 29/30\n",
            "Epoch : 028, Training: Loss: 0.2737, Accuracy: 90.7784%, \n",
            "\t\tValidation : Loss : 0.6533, Accuracy: 83.4936%, Time: 113.6224s\n",
            "Epoch: 30/30\n",
            "Epoch : 029, Training: Loss: 0.2844, Accuracy: 90.2799%, \n",
            "\t\tValidation : Loss : 0.8392, Accuracy: 81.0897%, Time: 111.6092s\n"
          ],
          "name": "stdout"
        }
      ]
    }
  ]
}